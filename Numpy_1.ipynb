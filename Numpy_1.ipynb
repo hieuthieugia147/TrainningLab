{
 "cells": [
  {
   "cell_type": "markdown",
   "metadata": {
    "colab_type": "text",
    "id": "wDtyCjZ4yc-W"
   },
   "source": [
    "##  Sử dụng thư viện NumPy làm việc với ma trận \n",
    "\n"
   ]
  },
  {
   "cell_type": "markdown",
   "metadata": {
    "colab_type": "text",
    "id": "eHSVABSx6gXT"
   },
   "source": [
    "## I) CHUẨN BỊ CÁC THƯ VIỆN SỬ DỤNG"
   ]
  },
  {
   "cell_type": "markdown",
   "metadata": {
    "colab_type": "text",
    "id": "Amb6RsJJ4UtD"
   },
   "source": [
    "### 1) Kiểm tra các thư viện xem đã cài đặt hay chưa và phiên bản bao nhiêu?"
   ]
  },
  {
   "cell_type": "code",
   "execution_count": 2,
   "metadata": {
    "colab": {
     "base_uri": "https://localhost:8080/",
     "height": 34
    },
    "colab_type": "code",
    "id": "_XnBt7NKyG7d",
    "outputId": "f3341a80-d91e-4939-93b2-5996ca159000"
   },
   "outputs": [
    {
     "name": "stdout",
     "output_type": "stream",
     "text": [
      "Thư viện Numpy: Version:  1.19.2\n"
     ]
    }
   ],
   "source": [
    "#Kiểm tra phiên bản thư viện Numpy\n",
    "#import thư viện numpy để sử dụng\n",
    "import numpy as np \n",
    "\n",
    "print(\"Thư viện Numpy: Version: \", np.__version__)"
   ]
  },
  {
   "cell_type": "markdown",
   "metadata": {},
   "source": [
    "Viết code kiểm tra phiên bản thư viện:\n",
    "\n",
    "Matplotlib, Pandas, Scikit-learn"
   ]
  },
  {
   "cell_type": "code",
   "execution_count": 7,
   "metadata": {
    "colab": {},
    "colab_type": "code",
    "id": "kDsya1qx6NYG"
   },
   "outputs": [
    {
     "ename": "ModuleNotFoundError",
     "evalue": "No module named 'scikitlearn'",
     "output_type": "error",
     "traceback": [
      "\u001b[1;31m---------------------------------------------------------------------------\u001b[0m",
      "\u001b[1;31mModuleNotFoundError\u001b[0m                       Traceback (most recent call last)",
      "\u001b[1;32m<ipython-input-7-6996be558ecc>\u001b[0m in \u001b[0;36m<module>\u001b[1;34m\u001b[0m\n\u001b[0;32m      3\u001b[0m \u001b[1;32mimport\u001b[0m \u001b[0mmatplotlib\u001b[0m \u001b[1;32mas\u001b[0m \u001b[0mmp\u001b[0m\u001b[1;33m\u001b[0m\u001b[1;33m\u001b[0m\u001b[0m\n\u001b[0;32m      4\u001b[0m \u001b[1;32mimport\u001b[0m \u001b[0mpandas\u001b[0m \u001b[1;32mas\u001b[0m \u001b[0mpd\u001b[0m\u001b[1;33m\u001b[0m\u001b[1;33m\u001b[0m\u001b[0m\n\u001b[1;32m----> 5\u001b[1;33m \u001b[1;32mimport\u001b[0m \u001b[0mscikitlearn\u001b[0m \u001b[1;32mas\u001b[0m \u001b[0msl\u001b[0m\u001b[1;33m\u001b[0m\u001b[1;33m\u001b[0m\u001b[0m\n\u001b[0m\u001b[0;32m      6\u001b[0m \u001b[1;33m\u001b[0m\u001b[0m\n\u001b[0;32m      7\u001b[0m \u001b[0mprint\u001b[0m\u001b[1;33m(\u001b[0m\u001b[1;34m\"numpy libary: Version: \"\u001b[0m\u001b[1;33m,\u001b[0m\u001b[0mnp\u001b[0m\u001b[1;33m.\u001b[0m\u001b[0m__version__\u001b[0m\u001b[1;33m)\u001b[0m\u001b[1;33m\u001b[0m\u001b[1;33m\u001b[0m\u001b[0m\n",
      "\u001b[1;31mModuleNotFoundError\u001b[0m: No module named 'scikitlearn'"
     ]
    }
   ],
   "source": [
    "# {VIẾT CODE Ở ĐÂY}\n",
    "import numpy as np\n",
    "import matplotlib as mp\n",
    "import pandas as pd\n",
    "#import scikitlearn as sl\n",
    "\n",
    "print(\"numpy libary: Version: \",np.__version__)\n",
    "print(\"matplotlib libary: Version:\",mp.__version__)\n",
    "print(\"pandas libary:Version:\",pd.__version__)\n",
    "#print(\"scikit-learn:Version\",sl.__version__)\n",
    "\n",
    "\n",
    "\n"
   ]
  },
  {
   "cell_type": "markdown",
   "metadata": {
    "colab_type": "text",
    "id": "XM0y2qpb4I0V"
   },
   "source": [
    "### 2) Cài đặt, cập nhật thư viện sử dụng lệnh\n",
    "\n",
    "Để cài đặt một thư viện mới sử dụng lệnh:\n",
    "\n",
    "**!pip install <tên thư viện>**  \n",
    "\n",
    "hoặc :\n",
    "\n",
    "**!apt-get install <tên thư viện>**\n",
    "\n",
    "---\n",
    "Để cập nhật một thư viện lên phiên bản cao hơn sử dụng lệnh:\n",
    "\n",
    "**!pip install --user <tên thư viện> --upgrade**"
   ]
  },
  {
   "cell_type": "code",
   "execution_count": 3,
   "metadata": {
    "colab": {},
    "colab_type": "code",
    "id": "smBaGLdh3X7B"
   },
   "outputs": [
    {
     "ename": "ModuleNotFoundError",
     "evalue": "No module named 'scrapy'",
     "output_type": "error",
     "traceback": [
      "\u001b[1;31m---------------------------------------------------------------------------\u001b[0m",
      "\u001b[1;31mModuleNotFoundError\u001b[0m                       Traceback (most recent call last)",
      "\u001b[1;32m<ipython-input-3-c0efffb69371>\u001b[0m in \u001b[0;36m<module>\u001b[1;34m\u001b[0m\n\u001b[0;32m      1\u001b[0m \u001b[1;31m#Thư viện chưa được cài đặt:\u001b[0m\u001b[1;33m\u001b[0m\u001b[1;33m\u001b[0m\u001b[1;33m\u001b[0m\u001b[0m\n\u001b[1;32m----> 2\u001b[1;33m \u001b[1;32mimport\u001b[0m \u001b[0mscrapy\u001b[0m \u001b[1;32mas\u001b[0m \u001b[0msc\u001b[0m\u001b[1;33m\u001b[0m\u001b[1;33m\u001b[0m\u001b[0m\n\u001b[0m\u001b[0;32m      3\u001b[0m \u001b[0mprint\u001b[0m\u001b[1;33m(\u001b[0m\u001b[1;34m\"Thu vien Scrapy, Version: \"\u001b[0m\u001b[1;33m,\u001b[0m\u001b[0msc\u001b[0m\u001b[1;33m.\u001b[0m\u001b[0m__version__\u001b[0m\u001b[1;33m)\u001b[0m\u001b[1;33m\u001b[0m\u001b[1;33m\u001b[0m\u001b[0m\n",
      "\u001b[1;31mModuleNotFoundError\u001b[0m: No module named 'scrapy'"
     ]
    }
   ],
   "source": [
    "#Thư viện chưa được cài đặt:\n",
    "import scrapy as sc\n",
    "print(\"Thu vien Scrapy, Version: \",sc.__version__)"
   ]
  },
  {
   "cell_type": "code",
   "execution_count": 4,
   "metadata": {
    "colab": {},
    "colab_type": "code",
    "id": "NQPzi0b13h3v"
   },
   "outputs": [
    {
     "name": "stdout",
     "output_type": "stream",
     "text": [
      "Collecting scrapy\n",
      "  Downloading Scrapy-2.5.1-py2.py3-none-any.whl (254 kB)\n",
      "Requirement already satisfied: pyOpenSSL>=16.2.0 in c:\\users\\thomt\\anaconda3\\lib\\site-packages (from scrapy) (20.0.0)\n",
      "Requirement already satisfied: zope.interface>=4.1.3 in c:\\users\\thomt\\anaconda3\\lib\\site-packages (from scrapy) (5.1.2)\n",
      "Requirement already satisfied: lxml>=3.5.0 in c:\\users\\thomt\\anaconda3\\lib\\site-packages (from scrapy) (4.6.2)\n",
      "Requirement already satisfied: cryptography>=2.0 in c:\\users\\thomt\\anaconda3\\lib\\site-packages (from scrapy) (3.2.1)\n",
      "Requirement already satisfied: cffi!=1.11.3,>=1.8 in c:\\users\\thomt\\anaconda3\\lib\\site-packages (from cryptography>=2.0->scrapy) (1.14.4)\n",
      "Requirement already satisfied: six>=1.4.1 in c:\\users\\thomt\\anaconda3\\lib\\site-packages (from cryptography>=2.0->scrapy) (1.15.0)\n",
      "Requirement already satisfied: pycparser in c:\\users\\thomt\\anaconda3\\lib\\site-packages (from cffi!=1.11.3,>=1.8->cryptography>=2.0->scrapy) (2.20)\n",
      "Collecting cssselect>=0.9.1\n",
      "  Downloading cssselect-1.1.0-py2.py3-none-any.whl (16 kB)\n",
      "Collecting h2<4.0,>=3.0\n",
      "  Downloading h2-3.2.0-py2.py3-none-any.whl (65 kB)\n",
      "Collecting hpack<4,>=3.0\n",
      "  Downloading hpack-3.0.0-py2.py3-none-any.whl (38 kB)\n",
      "Collecting hyperframe<6,>=5.2.0\n",
      "  Downloading hyperframe-5.2.0-py2.py3-none-any.whl (12 kB)\n",
      "Collecting itemadapter>=0.1.0\n",
      "  Downloading itemadapter-0.4.0-py3-none-any.whl (10 kB)\n",
      "Collecting itemloaders>=1.0.1\n",
      "  Downloading itemloaders-1.0.4-py3-none-any.whl (11 kB)\n",
      "Collecting jmespath>=0.9.5\n",
      "  Downloading jmespath-0.10.0-py2.py3-none-any.whl (24 kB)\n",
      "Collecting parsel>=1.5.0\n",
      "  Downloading parsel-1.6.0-py2.py3-none-any.whl (13 kB)\n",
      "Requirement already satisfied: lxml>=3.5.0 in c:\\users\\thomt\\anaconda3\\lib\\site-packages (from scrapy) (4.6.2)\n",
      "Requirement already satisfied: six>=1.4.1 in c:\\users\\thomt\\anaconda3\\lib\\site-packages (from cryptography>=2.0->scrapy) (1.15.0)\n",
      "Collecting protego>=0.1.15\n",
      "  Downloading Protego-0.1.16.tar.gz (3.2 MB)\n",
      "Requirement already satisfied: six>=1.4.1 in c:\\users\\thomt\\anaconda3\\lib\\site-packages (from cryptography>=2.0->scrapy) (1.15.0)\n",
      "Collecting PyDispatcher>=2.0.5\n",
      "  Downloading PyDispatcher-2.0.5.zip (47 kB)\n",
      "Requirement already satisfied: cryptography>=2.0 in c:\\users\\thomt\\anaconda3\\lib\\site-packages (from scrapy) (3.2.1)\n",
      "Requirement already satisfied: six>=1.4.1 in c:\\users\\thomt\\anaconda3\\lib\\site-packages (from cryptography>=2.0->scrapy) (1.15.0)\n",
      "Collecting queuelib>=1.4.2\n",
      "  Downloading queuelib-1.6.2-py2.py3-none-any.whl (13 kB)\n",
      "Collecting service-identity>=16.0.0\n",
      "  Downloading service_identity-21.1.0-py2.py3-none-any.whl (12 kB)\n",
      "Requirement already satisfied: six>=1.4.1 in c:\\users\\thomt\\anaconda3\\lib\\site-packages (from cryptography>=2.0->scrapy) (1.15.0)\n",
      "Requirement already satisfied: attrs>=19.1.0 in c:\\users\\thomt\\anaconda3\\lib\\site-packages (from service-identity>=16.0.0->scrapy) (20.3.0)\n",
      "Requirement already satisfied: cryptography>=2.0 in c:\\users\\thomt\\anaconda3\\lib\\site-packages (from scrapy) (3.2.1)\n",
      "Collecting pyasn1\n",
      "  Downloading pyasn1-0.4.8-py2.py3-none-any.whl (77 kB)\n",
      "Collecting pyasn1-modules\n",
      "  Downloading pyasn1_modules-0.2.8-py2.py3-none-any.whl (155 kB)\n",
      "Collecting Twisted[http2]>=17.9.0\n",
      "  Downloading Twisted-21.7.0-py3-none-any.whl (3.1 MB)\n",
      "Requirement already satisfied: zope.interface>=4.1.3 in c:\\users\\thomt\\anaconda3\\lib\\site-packages (from scrapy) (5.1.2)\n",
      "Requirement already satisfied: typing-extensions>=3.6.5 in c:\\users\\thomt\\anaconda3\\lib\\site-packages (from Twisted[http2]>=17.9.0->scrapy) (3.7.4.3)\n",
      "Requirement already satisfied: attrs>=19.1.0 in c:\\users\\thomt\\anaconda3\\lib\\site-packages (from service-identity>=16.0.0->scrapy) (20.3.0)\n",
      "Collecting Automat>=0.8.0\n",
      "  Downloading Automat-20.2.0-py2.py3-none-any.whl (31 kB)\n",
      "Requirement already satisfied: six>=1.4.1 in c:\\users\\thomt\\anaconda3\\lib\\site-packages (from cryptography>=2.0->scrapy) (1.15.0)\n",
      "Requirement already satisfied: attrs>=19.1.0 in c:\\users\\thomt\\anaconda3\\lib\\site-packages (from service-identity>=16.0.0->scrapy) (20.3.0)\n",
      "Collecting constantly>=15.1\n",
      "  Downloading constantly-15.1.0-py2.py3-none-any.whl (7.9 kB)\n",
      "Collecting hyperlink>=17.1.1\n",
      "  Downloading hyperlink-21.0.0-py2.py3-none-any.whl (74 kB)\n",
      "Requirement already satisfied: idna>=2.5 in c:\\users\\thomt\\anaconda3\\lib\\site-packages (from hyperlink>=17.1.1->Twisted[http2]>=17.9.0->scrapy) (2.10)\n",
      "Collecting incremental>=21.3.0\n",
      "  Downloading incremental-21.3.0-py2.py3-none-any.whl (15 kB)\n",
      "Collecting priority<2.0,>=1.1.0\n",
      "  Downloading priority-1.3.0-py2.py3-none-any.whl (11 kB)\n",
      "Requirement already satisfied: zope.interface>=4.1.3 in c:\\users\\thomt\\anaconda3\\lib\\site-packages (from scrapy) (5.1.2)\n",
      "Requirement already satisfied: typing-extensions>=3.6.5 in c:\\users\\thomt\\anaconda3\\lib\\site-packages (from Twisted[http2]>=17.9.0->scrapy) (3.7.4.3)\n",
      "Requirement already satisfied: attrs>=19.1.0 in c:\\users\\thomt\\anaconda3\\lib\\site-packages (from service-identity>=16.0.0->scrapy) (20.3.0)\n",
      "Collecting twisted-iocpsupport~=1.0.0\n",
      "  Downloading twisted_iocpsupport-1.0.2-cp38-cp38-win_amd64.whl (45 kB)\n",
      "Collecting w3lib>=1.17.0\n",
      "  Downloading w3lib-1.22.0-py2.py3-none-any.whl (20 kB)\n",
      "Requirement already satisfied: six>=1.4.1 in c:\\users\\thomt\\anaconda3\\lib\\site-packages (from cryptography>=2.0->scrapy) (1.15.0)\n",
      "Requirement already satisfied: setuptools in c:\\users\\thomt\\anaconda3\\lib\\site-packages (from zope.interface>=4.1.3->scrapy) (50.3.1.post20201107)\n",
      "Building wheels for collected packages: protego, PyDispatcher\n",
      "  Building wheel for protego (setup.py): started\n",
      "  Building wheel for protego (setup.py): finished with status 'done'\n",
      "  Created wheel for protego: filename=Protego-0.1.16-py3-none-any.whl size=7770 sha256=c619defb9703f8b1796cec738637d580213583bbe3d79deea9cf4a45e3c14082\n",
      "  Stored in directory: c:\\users\\thomt\\appdata\\local\\pip\\cache\\wheels\\91\\64\\36\\bd0d11306cb22a78c7f53d603c7eb74ebb6c211703bc40b686\n",
      "  Building wheel for PyDispatcher (setup.py): started\n",
      "  Building wheel for PyDispatcher (setup.py): finished with status 'done'\n",
      "  Created wheel for PyDispatcher: filename=PyDispatcher-2.0.5-py3-none-any.whl size=12552 sha256=e686753525ad1c2de8d2adbb0284fced7a35363c19dfd9e6b4c024f56a9fdaa9\n",
      "  Stored in directory: c:\\users\\thomt\\appdata\\local\\pip\\cache\\wheels\\3c\\31\\7f\\d7d7b5f0b9bad841ed856138ff0c5ee2bf2e04dbeb413097c8\n",
      "Successfully built protego PyDispatcher\n",
      "Installing collected packages: w3lib, twisted-iocpsupport, pyasn1, incremental, hyperlink, hyperframe, hpack, cssselect, constantly, Automat, Twisted, pyasn1-modules, priority, parsel, jmespath, itemadapter, h2, service-identity, queuelib, PyDispatcher, protego, itemloaders, scrapy\n",
      "Successfully installed Automat-20.2.0 PyDispatcher-2.0.5 Twisted-21.7.0 constantly-15.1.0 cssselect-1.1.0 h2-3.2.0 hpack-3.0.0 hyperframe-5.2.0 hyperlink-21.0.0 incremental-21.3.0 itemadapter-0.4.0 itemloaders-1.0.4 jmespath-0.10.0 parsel-1.6.0 priority-1.3.0 protego-0.1.16 pyasn1-0.4.8 pyasn1-modules-0.2.8 queuelib-1.6.2 scrapy-2.5.1 service-identity-21.1.0 twisted-iocpsupport-1.0.2 w3lib-1.22.0\n"
     ]
    }
   ],
   "source": [
    "#Cài đặt thư viện scrapy vào hệ thống:\n",
    "!pip install scrapy"
   ]
  },
  {
   "cell_type": "code",
   "execution_count": null,
   "metadata": {},
   "outputs": [],
   "source": [
    "#Update thư viện\n",
    "\n",
    "!pip install --user <ten thu vien > --upgrade"
   ]
  },
  {
   "cell_type": "markdown",
   "metadata": {
    "colab_type": "text",
    "id": "TF7j-maO6XfF"
   },
   "source": [
    "## II) LÀM VIỆC VỚI THƯ VIỆN NUMPY"
   ]
  },
  {
   "cell_type": "markdown",
   "metadata": {
    "colab_type": "text",
    "id": "ksVfGFNt6zzJ"
   },
   "source": [
    "### II.1) KHỞI TẠO MẢNG VỚI NUMPY\n",
    "---"
   ]
  },
  {
   "cell_type": "markdown",
   "metadata": {},
   "source": [
    "### II.1.1 Khởi tạo mảng 1D, 2D, 3D\n",
    "---\n",
    "#### a) Mảng 1 chiều (1D)"
   ]
  },
  {
   "cell_type": "code",
   "execution_count": null,
   "metadata": {},
   "outputs": [],
   "source": [
    "#Khởi tạo mảng 1 chiều với thư viên Numpy\n",
    "import numpy as np\n",
    "\n",
    "#Tạo mảng 1 chiều (1D) - row\n",
    "a = np.array([1, 2, 5, 7, 0, 8])\n",
    "\n",
    "print(a)\n",
    "print(\"Loại dữ liệu của biến a:\", type(a))\n",
    "print(\"Kiểu dữ liệu của phần tử trong mảng a:\", a.dtype)\n",
    "print(\"Kích thước của mảng a:\", a.shape)\n",
    "print(\"Số phần tử của mảng a:\", a.size)\n",
    "print(\"Số chiều của mảng a:\", a.ndim)"
   ]
  },
  {
   "cell_type": "code",
   "execution_count": null,
   "metadata": {},
   "outputs": [],
   "source": [
    "b = np.array([5.5, 7.1, 8.0, 9])\n",
    "print(b.dtype)"
   ]
  },
  {
   "cell_type": "code",
   "execution_count": null,
   "metadata": {},
   "outputs": [],
   "source": [
    "import numpy as np\n",
    "#Chuyển đổi từ biến kiểu list sang biến mảng\n",
    "list_a = [7.5, 6, 5, 7, 12, 1, 'Nam']\n",
    "print(\"Danh sách list_a:\", list_a)\n",
    "print(type(list_a))\n",
    "\n",
    "\n",
    "#chuyển sang kiểu array\n",
    "array_a = np.array(list_a)\n",
    "\n",
    "print(\"Mảng array_a:\", array_a)\n",
    "print(\"Loại dữ liệu của biến array_a:\", type(array_a))\n",
    "print(\"Kiểu dữ liệu của phần tử trong mảng array_a:\", array_a.dtype)\n",
    "print(\"Kích thước của mảng array_a:\", array_a.shape)\n",
    "print(\"Số phần tử của mảng array_a:\", array_a.size)\n",
    "print(\"Số chiều của mảng array_a:\", array_a.ndim)"
   ]
  },
  {
   "cell_type": "markdown",
   "metadata": {},
   "source": [
    "#### b) Mảng 2 chiều (2D - Ma trận)"
   ]
  },
  {
   "cell_type": "code",
   "execution_count": 59,
   "metadata": {},
   "outputs": [
    {
     "name": "stdout",
     "output_type": "stream",
     "text": [
      "[[ 4  5  6]\n",
      " [ 1  2  3]\n",
      " [ 7  8 10]\n",
      " [11  0  8]]\n",
      "Loại dữ liệu của biến b: <class 'numpy.ndarray'>\n",
      "Kiểu dữ liệu của phần tử trong mảng b: int32\n",
      "Kích thước của mảng b: (4, 3)\n",
      "Số phần tử của mảng b: 12\n",
      "Số chiều của mảng b: 2\n"
     ]
    }
   ],
   "source": [
    "#Gọi thư viện numpy\n",
    "import numpy as np\n",
    "\n",
    "#Tạo mảng 2 chiều (2D - Ma trận)\n",
    "b = np.array([(4, 5, 6),(1, 2, 3),(7,8,10),(11, 0, 8)])\n",
    "\n",
    "print(b)\n",
    "print(\"Loại dữ liệu của biến b:\", type(b))\n",
    "print(\"Kiểu dữ liệu của phần tử trong mảng b:\", b.dtype)\n",
    "print(\"Kích thước của mảng b:\", b.shape)\n",
    "print(\"Số phần tử của mảng b:\", b.size)\n",
    "print(\"Số chiều của mảng b:\", b.ndim)"
   ]
  },
  {
   "cell_type": "markdown",
   "metadata": {},
   "source": [
    "#### c) Mảng 3 chiều (3D)"
   ]
  },
  {
   "cell_type": "code",
   "execution_count": null,
   "metadata": {},
   "outputs": [],
   "source": [
    "#Gọi thư viện numpy\n",
    "import numpy as np\n",
    "\n",
    "#Tạo mảng 3 chiều (3D)\n",
    "c = np.array([[(2, 4, 0, 6),(4, 7, 5, 6)],\n",
    "             [(0, 3, 2, 1),(9, 4, 5, 6)],\n",
    "             [(5, 8, 6, 4),(1, 4, 6, 8)]])\n",
    "\n",
    "print(c)\n",
    "print(\"Loại dữ liệu của biến c:\", type(b))\n",
    "print(\"Kiểu dữ liệu của phần tử trong mảng c:\", c.dtype)\n",
    "print(\"Kích thước của mảng c:\", c.shape)\n",
    "print(\"Số phần tử của mảng c:\", c.size)\n",
    "print(\"Số chiều của mảng c:\", c.ndim)"
   ]
  },
  {
   "cell_type": "markdown",
   "metadata": {},
   "source": [
    "### II.1.2) Khởi tạo mảng với các hàm sẵn có của Numpy\n",
    "---"
   ]
  },
  {
   "cell_type": "code",
   "execution_count": 64,
   "metadata": {},
   "outputs": [
    {
     "name": "stdout",
     "output_type": "stream",
     "text": [
      "[[0. 0. 0. 0. 0.]\n",
      " [0. 0. 0. 0. 0.]\n",
      " [0. 0. 0. 0. 0.]\n",
      " [0. 0. 0. 0. 0.]\n",
      " [0. 0. 0. 0. 0.]\n",
      " [0. 0. 0. 0. 0.]\n",
      " [0. 0. 0. 0. 0.]\n",
      " [0. 0. 0. 0. 0.]\n",
      " [0. 0. 0. 0. 0.]\n",
      " [0. 0. 0. 0. 0.]]\n",
      "Kiểu dữ liệu trong mảng array_zeros: float64\n",
      "Kích thước của mảng array_zeros: (10, 5)\n",
      "Số phần tử của mảng array_zeros: 50\n",
      "Số chiều của mảng array_zeros: 2\n"
     ]
    }
   ],
   "source": [
    "# Phương thức zeros: Tạo ma trận 0 kích thước 5 hàng x 3 cột\n",
    "import numpy as np\n",
    "\n",
    "array_zeros = np.zeros((10,5))\n",
    "\n",
    "print(array_zeros)\n",
    "print(\"Kiểu dữ liệu trong mảng array_zeros:\", array_zeros.dtype)\n",
    "print(\"Kích thước của mảng array_zeros:\", array_zeros.shape)\n",
    "print(\"Số phần tử của mảng array_zeros:\", array_zeros.size)\n",
    "print(\"Số chiều của mảng array_zeros:\", array_zeros.ndim)"
   ]
  },
  {
   "cell_type": "code",
   "execution_count": null,
   "metadata": {},
   "outputs": [],
   "source": [
    "#Thuộc tính dtype xác định kiểu dữ liệu của phần tử muốn tạo\n",
    "#Mặc định kiểu dữ liệu các phần tử là float\n",
    "vector_zeros = np.zeros((5,3),dtype=np.int)\n",
    "vector_zeros"
   ]
  },
  {
   "cell_type": "code",
   "execution_count": null,
   "metadata": {},
   "outputs": [],
   "source": [
    "# Phương thức ones: Tạo ma trận 1 kích thước 3 hàng x 5 cột\n",
    "import numpy as np\n",
    "\n",
    "array_one = np.ones((3, 5))\n",
    "\n",
    "print(array_one)\n",
    "print(\"Kiểu dữ liệu trong mảng array_one:\", array_one.dtype)\n",
    "print(\"Kích thước của mảng array_one:\", array_one.shape)\n",
    "print(\"Số phần tử của mảng array_one:\", array_one.size)\n",
    "print(\"Số chiều của mảng array_one:\", array_one.ndim)"
   ]
  },
  {
   "cell_type": "code",
   "execution_count": null,
   "metadata": {},
   "outputs": [],
   "source": [
    "#Phương thức eye: Tạo ma trận đơn vị cấp 5\n",
    "import numpy as np\n",
    "array_eye = np.eye(10)\n",
    "\n",
    "print(array_eye)\n",
    "print(\"Kiểu dữ liệu của phần tử trong mảng array_eye:\", array_eye.dtype)\n",
    "print(\"Kích thước của mảng array_eye:\", array_eye.shape)\n",
    "print(\"Số phần tử của mảng array_eye:\", array_eye.size)\n",
    "print(\"Số chiều của mảng array_eye:\", array_eye.ndim)"
   ]
  },
  {
   "cell_type": "code",
   "execution_count": null,
   "metadata": {},
   "outputs": [],
   "source": [
    "#Phương thức random: Tạo một ma trận (7x5) các phần tử ngẫu nhiên [0,1]\n",
    "import numpy as np\n",
    "array_random = np.random.random(10)\n",
    "\n",
    "print(array_random)\n",
    "print(\"Kiểu dữ liệu của phần tử trong mảng array_random:\", array_random.dtype)\n",
    "print(\"Kích thước của mảng array_random:\", array_random.shape)\n",
    "print(\"Số phần tử của mảng array_random:\", array_random.size)\n",
    "print(\"Số chiều của mảng array_random:\", array_random.ndim)"
   ]
  },
  {
   "cell_type": "code",
   "execution_count": 60,
   "metadata": {},
   "outputs": [
    {
     "name": "stdout",
     "output_type": "stream",
     "text": [
      "[26 21 12 20 22 11]\n",
      "---------------------------------------------\n",
      "[[25 10 26 29 13]\n",
      " [23 21 17 25 25]\n",
      " [28 25 10 22 15]]\n"
     ]
    }
   ],
   "source": [
    "#Phương thức randint:\n",
    "#Tạo một vector các phần tử là số nguyên ngẫu nhiên\n",
    "import numpy as np\n",
    "vector_a = np.random.randint(10, 30, 6)\n",
    "print(vector_a)\n",
    "print('---------------------------------------------')\n",
    "#Tạo một ma trận (3,5) các phần tử là số nguyên ngẫu nhiên\n",
    "import numpy as np\n",
    "array_a = np.random.randint(10, 30, (3,5))\n",
    "print(array_a)"
   ]
  },
  {
   "cell_type": "code",
   "execution_count": 61,
   "metadata": {},
   "outputs": [
    {
     "name": "stdout",
     "output_type": "stream",
     "text": [
      "Vector d: [ 1  3  5  7  9 11 13]\n",
      "Số phần tử của vector d: 7\n",
      "----------------------------------------------------------------\n",
      "Vector f: [ 1.    2.75  4.5   6.25  8.    9.75 11.5  13.25 15.  ]\n",
      "Số phần tử của vector f: 9\n"
     ]
    }
   ],
   "source": [
    "#Phương thức arange(a, b, steps): \n",
    "#Tạo vector:\n",
    "# Phần tử đầu tiên = a, \n",
    "# kết thúc <b, \n",
    "# mỗi phần tử cách nhau một khoảng = steps\n",
    "d = np.arange(1, 15, 2)\n",
    "print('Vector d:', d)\n",
    "print(\"Số phần tử của vector d:\", d.size)\n",
    "\n",
    "print('----------------------------------------------------------------')\n",
    "#Phương thức linspace(a, b, num)\n",
    "#Tạo vector:\n",
    "#Phần tử đầu tiên  = a, \n",
    "#Phần tử kết thúc  = b, \n",
    "#Số phần tử của ma trận = num\n",
    "f = np.linspace(1,15,9)\n",
    "print('Vector f:', f)\n",
    "print(\"Số phần tử của vector f:\", f.size)\n"
   ]
  },
  {
   "cell_type": "code",
   "execution_count": null,
   "metadata": {},
   "outputs": [],
   "source": [
    "# Create a 3x5 array filled with 3.14\n",
    "np.full((5, 5), 3.1515926535)"
   ]
  },
  {
   "cell_type": "markdown",
   "metadata": {},
   "source": [
    "### II.1.3) Đọc dữ liệu lưu trữ từ file .txt vào mảng\n",
    "---"
   ]
  },
  {
   "cell_type": "code",
   "execution_count": 6,
   "metadata": {
    "colab": {},
    "colab_type": "code",
    "id": "tu9CMzc767_Q"
   },
   "outputs": [
    {
     "name": "stdout",
     "output_type": "stream",
     "text": [
      "[[ 2  4  3  7  5  6  5  6  8  9  3  6  1  9  8  7  3  3  9  5  1  6  5  1\n",
      "   4  6  7  1  1  1]\n",
      " [ 3  5  3 10  9  1  9  8  3  1  6  0  7 10  8  5  2  7  7  1  1  6  1  6\n",
      "   3  0  2  2  1  6]\n",
      " [ 1 10  4  9  6  9  0  2  3  1  8  6  8  4  2  9  2  9  5  0  4  1  7  3\n",
      "   8  9  8  9  9  9]\n",
      " [ 6  3  0  8  3  7  7  2  6  8  7  3  4  1  5  9  1  0  2 10  4  6  8  6\n",
      "   6 10  3  1  4  5]\n",
      " [ 4  3  6  7  4  5  2  6  9  4  3  9  9  4  5  7  2 10  9  4  0  5  3  1\n",
      "   4  5  6  8  2  3]\n",
      " [ 2  3  8 10  4  5  9  5  4  7 10  1  8  4  3  9  6  3  6  7  4  7  3  5\n",
      "   9  5  7  5  8  1]\n",
      " [ 9  9  1 10  9  9  5  9  6  3  9  5  1 10  7 10  2  8  8  1  8  4  5  4\n",
      "   9  6  7  2  9  2]\n",
      " [ 8  8  7  8  6  7  7  8  6  7  8  6  7  6  8  8  7  6  8  8  8  7  8  8\n",
      "   8  6  8  7  7  8]\n",
      " [ 6  7  8  9 10  9  2  2  6  1 10  9  6  3  9  5  9  8  1  1  8  8  8  6\n",
      "   6  8  7  3  8  1]\n",
      " [ 7  8  7  8  6 10 10  6  8 10  8  9  8  8  5 10  8  7  8  7  9  9  8  7\n",
      "   7  7 10  8  9  7]]\n",
      "Kiểu dữ liệu của phần tử trong mảng diem_2a: int32\n",
      "Kích thước của mảng diem_2a: (10, 30)\n",
      "Số phần tử của mảng diem_2a: 300\n",
      "Số chiều của mảng diem_2a: 2\n"
     ]
    }
   ],
   "source": [
    "import numpy as np\n",
    "\n",
    "#Đọc dữ liệu từ file Diem_2A.txt\n",
    "path  ='C:/Users/thomt/Documents/Numpy/Data/Diem_2A.txt'\n",
    "diem_2a = np.loadtxt(path,delimiter=',',dtype=np.int)\n",
    "\n",
    "print(diem_2a)\n",
    "print(\"Kiểu dữ liệu của phần tử trong mảng diem_2a:\", diem_2a.dtype)\n",
    "print(\"Kích thước của mảng diem_2a:\", diem_2a.shape)\n",
    "print(\"Số phần tử của mảng diem_2a:\", diem_2a.size)\n",
    "print(\"Số chiều của mảng diem_2a:\", diem_2a.ndim)"
   ]
  },
  {
   "cell_type": "markdown",
   "metadata": {
    "colab_type": "text",
    "id": "9VQ7U18w_XMr"
   },
   "source": [
    "### II.2) CÁC THAO TÁC VỚI MẢNG\n",
    "---\n",
    "### II.2.1 Hàm quan sát mảng"
   ]
  },
  {
   "cell_type": "code",
   "execution_count": null,
   "metadata": {
    "colab": {
     "base_uri": "https://localhost:8080/",
     "height": 35
    },
    "colab_type": "code",
    "id": "MnZc42FA_b43",
    "outputId": "dbee536f-b336-4155-b8fd-e66068cd8b2f"
   },
   "outputs": [],
   "source": [
    "#a.shape: Cho biết kích thước của mảng a:\n",
    "print('kích thước của mảng diem_2a:', diem_2a.shape)"
   ]
  },
  {
   "cell_type": "code",
   "execution_count": null,
   "metadata": {
    "colab": {},
    "colab_type": "code",
    "id": "s6N42V5lArDz"
   },
   "outputs": [],
   "source": [
    "#a.ndim: Cho biết Số chiều của mảng a:\n",
    "print('Số chiều của mảng diem_2a:', diem_2a.ndim)"
   ]
  },
  {
   "cell_type": "code",
   "execution_count": null,
   "metadata": {
    "colab": {},
    "colab_type": "code",
    "id": "RagL-6PtA4hU"
   },
   "outputs": [],
   "source": [
    "#a.size: Cho biết số phần tử của mảng a:\n",
    "print('Số phần tử của mảng diem_2a: ', diem_2a.size)"
   ]
  },
  {
   "cell_type": "code",
   "execution_count": null,
   "metadata": {
    "colab": {},
    "colab_type": "code",
    "id": "POcty5tOBriV"
   },
   "outputs": [],
   "source": [
    "#a.dtype: Cho biết kiểu dữ liệu của các phần tử trong mảng a\n",
    "print('Kiểu dữ liệu của các phần tử trong mảng diem_2a:', diem_2a.dtype)"
   ]
  },
  {
   "cell_type": "markdown",
   "metadata": {},
   "source": [
    "### II.2.2) Chuyển đổi kiểu dữ liệu các phần tử trong mảng\n",
    "---"
   ]
  },
  {
   "cell_type": "code",
   "execution_count": 13,
   "metadata": {
    "colab": {},
    "colab_type": "code",
    "id": "Yop1EpdECAiy"
   },
   "outputs": [
    {
     "name": "stdout",
     "output_type": "stream",
     "text": [
      "[ 0.   1.5  3.   4.5  6.   7.5  9.  10.5 12.  13.5 15. ]\n",
      "Kiểu Dữ liệu:  float64\n",
      "-----------------------------------------\n",
      "[ 0  1  3  4  6  7  9 10 12 13 15]\n",
      "Dữ liệu sau khi chuyển:  int16\n"
     ]
    }
   ],
   "source": [
    "#a.astype(kiểu mới): Chuyển đổi kiểu dữ liệu của các phần tử\n",
    "a_float = np.linspace(0,15,11)\n",
    "print(a_float)\n",
    "print('Kiểu Dữ liệu: ', a_float.dtype)\n",
    "print('-----------------------------------------')\n",
    "#Chuyển từ kiểu float --> int\n",
    "a_int = a_float.astype(np.int16)\n",
    "print(a_int)\n",
    "print('Dữ liệu sau khi chuyển: ', a_int.dtype)"
   ]
  },
  {
   "cell_type": "code",
   "execution_count": 11,
   "metadata": {
    "colab": {},
    "colab_type": "code",
    "id": "GiVRDC-ZN8c_"
   },
   "outputs": [
    {
     "ename": "NameError",
     "evalue": "name 'a_int' is not defined",
     "output_type": "error",
     "traceback": [
      "\u001b[1;31m---------------------------------------------------------------------------\u001b[0m",
      "\u001b[1;31mNameError\u001b[0m                                 Traceback (most recent call last)",
      "\u001b[1;32m<ipython-input-11-64cc183cae4b>\u001b[0m in \u001b[0;36m<module>\u001b[1;34m\u001b[0m\n\u001b[0;32m      1\u001b[0m \u001b[1;31m#Chuyển từ kiểu float --> int\u001b[0m\u001b[1;33m\u001b[0m\u001b[1;33m\u001b[0m\u001b[1;33m\u001b[0m\u001b[0m\n\u001b[1;32m----> 2\u001b[1;33m \u001b[0ma_str\u001b[0m \u001b[1;33m=\u001b[0m \u001b[0ma_int\u001b[0m\u001b[1;33m.\u001b[0m\u001b[0mastype\u001b[0m\u001b[1;33m(\u001b[0m\u001b[0mnp\u001b[0m\u001b[1;33m.\u001b[0m\u001b[0mstr\u001b[0m\u001b[1;33m)\u001b[0m\u001b[1;33m\u001b[0m\u001b[1;33m\u001b[0m\u001b[0m\n\u001b[0m\u001b[0;32m      3\u001b[0m \u001b[0mprint\u001b[0m\u001b[1;33m(\u001b[0m\u001b[0ma_str\u001b[0m\u001b[1;33m)\u001b[0m\u001b[1;33m\u001b[0m\u001b[1;33m\u001b[0m\u001b[0m\n\u001b[0;32m      4\u001b[0m \u001b[0mprint\u001b[0m\u001b[1;33m(\u001b[0m\u001b[1;34m'Dữ liệu sau khi chuyển: '\u001b[0m\u001b[1;33m,\u001b[0m \u001b[0ma_str\u001b[0m\u001b[1;33m.\u001b[0m\u001b[0mdtype\u001b[0m\u001b[1;33m)\u001b[0m\u001b[1;33m\u001b[0m\u001b[1;33m\u001b[0m\u001b[0m\n\u001b[0;32m      5\u001b[0m \u001b[0mprint\u001b[0m\u001b[1;33m(\u001b[0m\u001b[1;34m'-----------------------------------------'\u001b[0m\u001b[1;33m)\u001b[0m\u001b[1;33m\u001b[0m\u001b[1;33m\u001b[0m\u001b[0m\n",
      "\u001b[1;31mNameError\u001b[0m: name 'a_int' is not defined"
     ]
    }
   ],
   "source": [
    "#Chuyển từ kiểu float --> int\n",
    "a_str = a_int.astype(np.str)\n",
    "print(a_str)\n",
    "print('Dữ liệu sau khi chuyển: ', a_str.dtype)\n",
    "print('-----------------------------------------')\n",
    "#Chuyển từ kiểu float --> boolean\n",
    "a_bol = a_int.astype(np.bool)\n",
    "print(a_bol)\n",
    "print('Dữ liệu sau khi chuyển: ', a_bol.dtype)"
   ]
  },
  {
   "cell_type": "markdown",
   "metadata": {
    "colab_type": "text",
    "id": "VgmurRtbSWm1"
   },
   "source": [
    "### II.2.3) Truy cập tới các phần tử của mảng\n",
    "---"
   ]
  },
  {
   "cell_type": "markdown",
   "metadata": {
    "colab_type": "text",
    "id": "Ahun79u0aXz5"
   },
   "source": [
    "#### a) Truy cập tới các phần tử của Vector (1D)\n",
    "---\n"
   ]
  },
  {
   "cell_type": "code",
   "execution_count": 12,
   "metadata": {
    "colab": {
     "base_uri": "https://localhost:8080/",
     "height": 34
    },
    "colab_type": "code",
    "id": "K45TlS72Sc1y",
    "outputId": "00ac1b04-04aa-4523-8b30-fde4d35e9f99",
    "scrolled": true
   },
   "outputs": [
    {
     "name": "stdout",
     "output_type": "stream",
     "text": [
      "các phần tử của Vector a:\n",
      " [ 3  5  3 10  9  1  9  8  3  1]\n",
      "------------------------------------------------\n",
      "phần tử đầu tiên: 3\n",
      "phần tử thứ 3: 1\n",
      "phần tử cuối cùng: 3\n"
     ]
    }
   ],
   "source": [
    "#Truy cập tới một phần tử của Vector: a[index]\n",
    "#Note: index phần tử đầu tiên 0\n",
    "#    : index phần tử cuối cùng -1\n",
    "a = np.array([3,  5,  3, 10,  9,  1,  9,  8,  3,  1])\n",
    "\n",
    "print('các phần tử của Vector a:\\n', a)\n",
    "print('------------------------------------------------')\n",
    "print('phần tử đầu tiên:', a[0])\n",
    "print('phần tử thứ 3:', a[5])\n",
    "print('phần tử cuối cùng:', a[-2])"
   ]
  },
  {
   "cell_type": "code",
   "execution_count": null,
   "metadata": {
    "colab": {
     "base_uri": "https://localhost:8080/",
     "height": 69
    },
    "colab_type": "code",
    "id": "zBqDxsoeUfa3",
    "outputId": "6921b752-2bb1-496d-e5b5-67918ba38fa4"
   },
   "outputs": [],
   "source": [
    "#Truy cập tới nhiều phần tử của Vector: a[index1:index2]\n",
    "print('các phần tử của Vector a:\\n', a)\n",
    "print('------------------------------------------------')\n",
    "print('3 Phần tử đầu tiên:', a[:3])\n",
    "print('Từ phần tử thứ 5 tới hết:', a[5:])\n",
    "print('Từ phần tử 2 đến phần tử <6 của vector:',a[2:6])"
   ]
  },
  {
   "cell_type": "markdown",
   "metadata": {},
   "source": [
    "## Lưu ý: Thay đổi giá trị của một phần tử trong mảng\n",
    "---\n"
   ]
  },
  {
   "cell_type": "code",
   "execution_count": 10,
   "metadata": {},
   "outputs": [
    {
     "name": "stdout",
     "output_type": "stream",
     "text": [
      "[7 5 8 1]\n"
     ]
    }
   ],
   "source": [
    "#Mảng a ban đầu\n",
    "print(a)"
   ]
  },
  {
   "cell_type": "code",
   "execution_count": null,
   "metadata": {},
   "outputs": [],
   "source": [
    "#Cập nhật lại giá trị của phần tử thứ 3 trong mảng\n",
    "a[3]=5\n",
    "a"
   ]
  },
  {
   "cell_type": "code",
   "execution_count": null,
   "metadata": {},
   "outputs": [],
   "source": [
    "#Tạo một mảng a1 có các phần tử như của mảng a\n",
    "a1 = a\n",
    "a1"
   ]
  },
  {
   "cell_type": "code",
   "execution_count": null,
   "metadata": {},
   "outputs": [],
   "source": [
    "#Cập nhật lại giá trị đầu tiên trong mảng a1\n",
    "a1[0]=10\n",
    "a1"
   ]
  },
  {
   "cell_type": "code",
   "execution_count": null,
   "metadata": {},
   "outputs": [],
   "source": [
    "#Các phần tử trong mảng a cũng sẽ cập nhật theo\n",
    "a"
   ]
  },
  {
   "cell_type": "code",
   "execution_count": null,
   "metadata": {},
   "outputs": [],
   "source": [
    "#Để giải quyết vấn đề này, sử dụng phương thức copy()\n",
    "a2=a.copy()\n",
    "a2"
   ]
  },
  {
   "cell_type": "code",
   "execution_count": null,
   "metadata": {},
   "outputs": [],
   "source": [
    "a2[0]=5\n",
    "a2"
   ]
  },
  {
   "cell_type": "code",
   "execution_count": null,
   "metadata": {},
   "outputs": [],
   "source": [
    "a"
   ]
  },
  {
   "cell_type": "code",
   "execution_count": null,
   "metadata": {},
   "outputs": [],
   "source": [
    "#Tương tự với biến kiểu list\n",
    "list_a=[2,4,6,7]\n",
    "list_a1=list_a.copy()\n",
    "print(list_a)\n",
    "print(list_a1)"
   ]
  },
  {
   "cell_type": "code",
   "execution_count": null,
   "metadata": {},
   "outputs": [],
   "source": [
    "list_a1[0]=100\n",
    "print(list_a)\n",
    "print(list_a1)"
   ]
  },
  {
   "cell_type": "markdown",
   "metadata": {
    "colab_type": "text",
    "id": "yMJSnBYdaijH"
   },
   "source": [
    "#### b)Truy cập tới các phần tử của ma trận\n",
    "---\n"
   ]
  },
  {
   "cell_type": "code",
   "execution_count": null,
   "metadata": {
    "colab": {},
    "colab_type": "code",
    "id": "O-9LAg8aVJwq"
   },
   "outputs": [],
   "source": [
    "#Truy cập tới 1 phần tử của ma trận (2D): a[index_row, index_col]\n",
    "print('Điểm môn học đầu tiên, của học sinh đầu tiên:',diem_2a[0,0])\n",
    "print('Điểm môn học thứ 1, của học sinh thứ 3:',diem_2a[1,3])\n",
    "print('Điểm môn cuối cùng, của học sinh cuối cùng:',diem_2a[-1,-1])\n",
    "print('--------------------------------------------------------')\n",
    "print('Bảng điểm lớp 2A:\\n',diem_2a)"
   ]
  },
  {
   "cell_type": "code",
   "execution_count": 36,
   "metadata": {
    "colab": {
     "base_uri": "https://localhost:8080/",
     "height": 35
    },
    "colab_type": "code",
    "id": "mjICTCVBaxHP",
    "outputId": "1537a972-d2d3-4611-d845-7f32249fe55c"
   },
   "outputs": [
    {
     "ename": "NameError",
     "evalue": "name 'diem_2a' is not defined",
     "output_type": "error",
     "traceback": [
      "\u001b[1;31m---------------------------------------------------------------------------\u001b[0m",
      "\u001b[1;31mNameError\u001b[0m                                 Traceback (most recent call last)",
      "\u001b[1;32m<ipython-input-36-a37d6a6011c1>\u001b[0m in \u001b[0;36m<module>\u001b[1;34m\u001b[0m\n\u001b[0;32m      1\u001b[0m \u001b[1;31m#Truy cập tới nhiều phần tử trong ma trận: a[index_row1:index_row2,index_col1:index_col2]\u001b[0m\u001b[1;33m\u001b[0m\u001b[1;33m\u001b[0m\u001b[1;33m\u001b[0m\u001b[0m\n\u001b[0;32m      2\u001b[0m \u001b[1;31m#Lấy điểm tất cả các môn (tất cả các hàng) của học sinh 5:\u001b[0m\u001b[1;33m\u001b[0m\u001b[1;33m\u001b[0m\u001b[1;33m\u001b[0m\u001b[0m\n\u001b[1;32m----> 3\u001b[1;33m \u001b[0mdiem_hs5\u001b[0m \u001b[1;33m=\u001b[0m \u001b[0mdiem_2a\u001b[0m\u001b[1;33m[\u001b[0m\u001b[1;33m:\u001b[0m\u001b[1;33m,\u001b[0m\u001b[1;36m5\u001b[0m\u001b[1;33m]\u001b[0m\u001b[1;33m\u001b[0m\u001b[1;33m\u001b[0m\u001b[0m\n\u001b[0m\u001b[0;32m      4\u001b[0m \u001b[0mprint\u001b[0m\u001b[1;33m(\u001b[0m\u001b[1;34m\"Điểm các môn của học sinh 5:\"\u001b[0m\u001b[1;33m,\u001b[0m\u001b[0mdiem_hs5\u001b[0m\u001b[1;33m)\u001b[0m\u001b[1;33m\u001b[0m\u001b[1;33m\u001b[0m\u001b[0m\n\u001b[0;32m      5\u001b[0m \u001b[1;33m\u001b[0m\u001b[0m\n",
      "\u001b[1;31mNameError\u001b[0m: name 'diem_2a' is not defined"
     ]
    }
   ],
   "source": [
    "#Truy cập tới nhiều phần tử trong ma trận: a[index_row1:index_row2,index_col1:index_col2]\n",
    "#Lấy điểm tất cả các môn (tất cả các hàng) của học sinh 5:\n",
    "diem_hs5 = diem_2a[:,5]\n",
    "print(\"Điểm các môn của học sinh 5:\",diem_hs5)\n",
    "\n",
    "#Lấy điểm môn học cuối cùng của tất cả học sinh (tất cả các cột) \n",
    "diem_mon = diem_2a[-1,:]\n",
    "print(\"Điểm môn học cuối cùng của tất cả học sinh: \\n\",diem_mon)\n",
    "\n",
    "#Lấy điểm 5 môn học đầu tiên của 10 học sinh đầu tiên\n",
    "diem5_hs10 = diem_2a[0:5,0:10]\n",
    "print(\"Bảng điểm 5 môn học đầu tiên của 10 học sinh đầu của lớp:\\n\",diem5_hs10)"
   ]
  },
  {
   "cell_type": "markdown",
   "metadata": {},
   "source": [
    "### II.2.4) Các phép toán trên mảng\n",
    "---"
   ]
  },
  {
   "cell_type": "code",
   "execution_count": 8,
   "metadata": {},
   "outputs": [
    {
     "name": "stdout",
     "output_type": "stream",
     "text": [
      "Mảng a:  [7 5 8 1]\n",
      "Giá trị x: 3\n",
      "Tổng mảng a + x: [10  8 11  4]\n",
      "Tổng mảng a - x: [ 4  2  5 -2]\n",
      "Tích mảng a * b: [21 15 24  3]\n",
      "Tích mảng a / b: [2.33333333 1.66666667 2.66666667 0.33333333]\n",
      "Thương nguyên mảng a // b: [2 1 2 0]\n",
      "Thương dư của mảng a % b: [1 2 2 1]\n"
     ]
    }
   ],
   "source": [
    "#Thực hiện phép toán giữa biến array và một giá trị\n",
    "a=np.array((7,5,8,1))\n",
    "print('Mảng a: ', a)\n",
    "\n",
    "x = 3\n",
    "print('Giá trị x:',x)\n",
    "\n",
    "# Các phép toán giữa array với một giá trị\n",
    "array_tong = a + x\n",
    "print(\"Tổng mảng a + x:\", array_tong)\n",
    "\n",
    "array_hieu = a - x\n",
    "print(\"Tổng mảng a - x:\", array_hieu)\n",
    "\n",
    "array_tich=a*x\n",
    "print(\"Tích mảng a * b:\", array_tich)\n",
    "\n",
    "array_thuong=a/x\n",
    "print(\"Tích mảng a / b:\", array_thuong)\n",
    "\n",
    "array_thuongnguyen=a//x\n",
    "print(\"Thương nguyên mảng a // b:\", array_thuongnguyen)\n",
    "\n",
    "array_thuongdu=a%x\n",
    "print(\"Thương dư của mảng a % b:\", array_thuongdu)"
   ]
  },
  {
   "cell_type": "code",
   "execution_count": 9,
   "metadata": {},
   "outputs": [
    {
     "name": "stdout",
     "output_type": "stream",
     "text": [
      "Mảng a:  [7 5 8 1]\n",
      "Mảng b:  [1 2 3 4]\n",
      "Tổng mảng a + b: [ 8  7 11  5]\n",
      "Tổng mảng a - b: [ 6  3  5 -3]\n",
      "Tích mảng a * b: [ 7 10 24  4]\n",
      "Tích mảng a / b: [7.         2.5        2.66666667 0.25      ]\n",
      "Thương nguyên mảng a // b: [7 2 2 0]\n",
      "Thương dư của mảng a % b: [0 1 2 1]\n"
     ]
    }
   ],
   "source": [
    "# Thực hiện các phép toán giữa 2 biến array\n",
    "# Yêu cầu: Số phần tử của hai ma trận phải bằng nhau\n",
    "a=np.array((7,5,8,1))\n",
    "print('Mảng a: ', a)\n",
    "b=np.array((1,2,3,4))\n",
    "print('Mảng b: ', b)\n",
    "\n",
    "#Các phép toán trên 2 biến array\n",
    "array_tong = a + b\n",
    "print(\"Tổng mảng a + b:\", array_tong)\n",
    "\n",
    "array_hieu = a - b\n",
    "print(\"Tổng mảng a - b:\", array_hieu)\n",
    "\n",
    "array_tich=a*b\n",
    "print(\"Tích mảng a * b:\", array_tich)\n",
    "\n",
    "array_thuong=a/b\n",
    "print(\"Tích mảng a / b:\", array_thuong)\n",
    "\n",
    "array_thuongnguyen=a//b\n",
    "print(\"Thương nguyên mảng a // b:\", array_thuongnguyen)\n",
    "\n",
    "array_thuongdu=a%b\n",
    "print(\"Thương dư của mảng a % b:\", array_thuongdu)"
   ]
  },
  {
   "cell_type": "markdown",
   "metadata": {},
   "source": [
    "# Thực hành số 1:\n",
    "---\n",
    "**YÊU CẦU 1: Tạo một ma trận vuông cấp n, bao gồm các phần tử, là những số nguyên ngẫu nhiên trong khoảng [0-100]**"
   ]
  },
  {
   "cell_type": "code",
   "execution_count": 19,
   "metadata": {},
   "outputs": [
    {
     "name": "stdout",
     "output_type": "stream",
     "text": [
      "nhap gia tri cua n7\n"
     ]
    },
    {
     "data": {
      "text/plain": [
       "array([[37, 28, 72, 69, 46, 92, 31],\n",
       "       [58,  3, 81, 37, 84, 75, 62],\n",
       "       [ 4, 61, 31,  4, 59, 70, 40],\n",
       "       [77, 97, 40, 56, 33,  1, 48],\n",
       "       [28, 63, 72, 99, 38, 65, 14],\n",
       "       [ 4, 18, 17, 27, 63, 60, 38],\n",
       "       [14, 11, 25,  8, 26, 12, 92]])"
      ]
     },
     "execution_count": 19,
     "metadata": {},
     "output_type": "execute_result"
    }
   ],
   "source": [
    "#{VIẾT CODE Ở ĐÂY}\n",
    "import numpy as np\n",
    "n=int(input(\"nhap gia tri cua n\"))\n",
    "arr_rand=np.random.randint(0,100,(n,n))\n",
    "arr_rand\n"
   ]
  },
  {
   "cell_type": "code",
   "execution_count": null,
   "metadata": {},
   "outputs": [],
   "source": []
  },
  {
   "cell_type": "markdown",
   "metadata": {},
   "source": [
    "**YÊU CẦU 2: Sử dụng ma trận tạo được trong yêu cầu 1, tạo 2 vector như sau:**\n",
    "\n",
    "**v_chinh:** bao gồm các phần tử nằm trên đường chéo chính của ma trận.\n",
    "\n",
    "**V_phu:** bao gồm các phần tử nằm trên đường chéo phụ của ma trận"
   ]
  },
  {
   "cell_type": "code",
   "execution_count": 20,
   "metadata": {},
   "outputs": [
    {
     "data": {
      "text/plain": [
       "array([14, 18, 72, 56, 59, 75, 31])"
      ]
     },
     "execution_count": 20,
     "metadata": {},
     "output_type": "execute_result"
    }
   ],
   "source": [
    "#{VIẾT CODE Ở ĐÂY}\n",
    "v_chinh=arr_rand.diagonal()\n",
    "v_chinh\n",
    "\n",
    "v_phu=arr_rand[::-1].diagonal()\n",
    "v_phu\n",
    "\n",
    "\n",
    "\n"
   ]
  },
  {
   "cell_type": "markdown",
   "metadata": {},
   "source": [
    "**YÊU CẦU 3: Nhập vào số nguyên x bất kỳ trong khoảng (0-100), đếm xem có bao nhiêu phần tử trong ma trận sinh ra ở yêu cầu 1 có giá trị bằng x, lớn hơn x, nhỏ hơn x và hiển thị kết quả:**"
   ]
  },
  {
   "cell_type": "code",
   "execution_count": 58,
   "metadata": {},
   "outputs": [
    {
     "name": "stdout",
     "output_type": "stream",
     "text": [
      "nhap gia tri cua n7\n",
      "nhap gia tri cua x50\n",
      " 0\n",
      " 36\n",
      " 13\n"
     ]
    }
   ],
   "source": [
    "#{VIẾT CODE Ở ĐÂY}\n",
    "import numpy as np\n",
    "n=int(input(\"nhap gia tri cua n\"))\n",
    "arr_rand=np.random.randint(0,100,(n,n))\n",
    "x=int(input(\"nhap gia tri cua x\"))\n",
    "count1=0 #gia tri bang\n",
    "count2=0 #lon hon\n",
    "count3=0 #nho hon\n",
    "for i in range(0, n, 1):\n",
    "    for j in range(0, n, 1):\n",
    "        if arr_rand[i][j] == x: count1=count1+1\n",
    "        if arr_rand[i][j] >x: count2=count2+1\n",
    "        if arr_rand[i][j] <x: count3=count3+1\n",
    "\n",
    "print(\"\",count1)\n",
    "print(\"\",count2)\n",
    "print(\"\",count3)\n",
    "\n"
   ]
  },
  {
   "cell_type": "code",
   "execution_count": null,
   "metadata": {},
   "outputs": [],
   "source": []
  },
  {
   "cell_type": "markdown",
   "metadata": {
    "colab_type": "text",
    "id": "yXwnkCYJk2FE"
   },
   "source": [
    "## 4) Tính toán các đặc trưng thống kê trong mảng\n",
    "---\n",
    "### 4.1) Min - Max"
   ]
  },
  {
   "cell_type": "code",
   "execution_count": 26,
   "metadata": {},
   "outputs": [
    {
     "name": "stdout",
     "output_type": "stream",
     "text": [
      "BẢNG ĐIỂM CỦA LỚP 2A:\n"
     ]
    },
    {
     "ename": "NameError",
     "evalue": "name 'diem_2a' is not defined",
     "output_type": "error",
     "traceback": [
      "\u001b[1;31m---------------------------------------------------------------------------\u001b[0m",
      "\u001b[1;31mNameError\u001b[0m                                 Traceback (most recent call last)",
      "\u001b[1;32m<ipython-input-26-1e491b2eae87>\u001b[0m in \u001b[0;36m<module>\u001b[1;34m\u001b[0m\n\u001b[0;32m      1\u001b[0m \u001b[0mprint\u001b[0m\u001b[1;33m(\u001b[0m\u001b[1;34m'BẢNG ĐIỂM CỦA LỚP 2A:'\u001b[0m\u001b[1;33m)\u001b[0m\u001b[1;33m\u001b[0m\u001b[1;33m\u001b[0m\u001b[0m\n\u001b[1;32m----> 2\u001b[1;33m \u001b[0mprint\u001b[0m\u001b[1;33m(\u001b[0m\u001b[0mdiem_2a\u001b[0m\u001b[1;33m)\u001b[0m\u001b[1;33m\u001b[0m\u001b[1;33m\u001b[0m\u001b[0m\n\u001b[0m",
      "\u001b[1;31mNameError\u001b[0m: name 'diem_2a' is not defined"
     ]
    }
   ],
   "source": [
    "print('BẢNG ĐIỂM CỦA LỚP 2A:')\n",
    "print(diem_2a)"
   ]
  },
  {
   "cell_type": "code",
   "execution_count": null,
   "metadata": {},
   "outputs": [],
   "source": [
    "#Max - Min: Xác định giá trị lớn nhất, nhỏ nhất:\n",
    "#1) Hiển thị điểm cao nhất, thấp nhất của lớp 2A\n",
    "print('Điểm cao nhất của lớp:',diem_2a.max())\n",
    "print('Điểm thấp nhất của lớp:',diem_2a.min())"
   ]
  },
  {
   "cell_type": "code",
   "execution_count": null,
   "metadata": {
    "colab": {},
    "colab_type": "code",
    "id": "idOxcfxek6Nl"
   },
   "outputs": [],
   "source": [
    "#2) Liệt kê điểm cao nhất và thấp nhất theo môn học\n",
    "for i in range(0,diem_2a.shape[0]):\n",
    "  print('Môn ', i,': Điểm Max: ', diem_2a[i,:].max(),\n",
    "                 '-- Điểm Min:',diem_2a[i,:].min())"
   ]
  },
  {
   "cell_type": "code",
   "execution_count": null,
   "metadata": {},
   "outputs": [],
   "source": [
    "#CÁCH 2:\n",
    "#phần tử max theo cột\n",
    "max_mh = diem_2a.max(axis=0)\n",
    "print('Điểm max: ', max_mh)\n",
    "\n",
    "#phần tử min theo cột\n",
    "min_mh = diem_2a.min(axis=0)\n",
    "print('Điểm Min: ', min_mh)"
   ]
  },
  {
   "cell_type": "code",
   "execution_count": 62,
   "metadata": {
    "scrolled": true
   },
   "outputs": [
    {
     "ename": "NameError",
     "evalue": "name 'diem_2a' is not defined",
     "output_type": "error",
     "traceback": [
      "\u001b[1;31m---------------------------------------------------------------------------\u001b[0m",
      "\u001b[1;31mNameError\u001b[0m                                 Traceback (most recent call last)",
      "\u001b[1;32m<ipython-input-62-0210c2e583b1>\u001b[0m in \u001b[0;36m<module>\u001b[1;34m\u001b[0m\n\u001b[0;32m      1\u001b[0m \u001b[1;31m#3) Liệt kê điểm cao nhất và thấp nhất của mỗi học sinh\u001b[0m\u001b[1;33m\u001b[0m\u001b[1;33m\u001b[0m\u001b[1;33m\u001b[0m\u001b[0m\n\u001b[1;32m----> 2\u001b[1;33m \u001b[1;32mfor\u001b[0m \u001b[0mi\u001b[0m \u001b[1;32min\u001b[0m \u001b[0mrange\u001b[0m\u001b[1;33m(\u001b[0m\u001b[1;36m0\u001b[0m\u001b[1;33m,\u001b[0m\u001b[0mdiem_2a\u001b[0m\u001b[1;33m.\u001b[0m\u001b[0mshape\u001b[0m\u001b[1;33m[\u001b[0m\u001b[1;36m1\u001b[0m\u001b[1;33m]\u001b[0m\u001b[1;33m)\u001b[0m\u001b[1;33m:\u001b[0m\u001b[1;33m\u001b[0m\u001b[1;33m\u001b[0m\u001b[0m\n\u001b[0m\u001b[0;32m      3\u001b[0m   print('Học sinh ', i,': Điểm Max: ', diem_2a[:,i].max(),\n\u001b[0;32m      4\u001b[0m                       '-- Điểm Min:',diem_2a[:,i].min())\n",
      "\u001b[1;31mNameError\u001b[0m: name 'diem_2a' is not defined"
     ]
    }
   ],
   "source": [
    "#3) Liệt kê điểm cao nhất và thấp nhất của mỗi học sinh\n",
    "for i in range(0,diem_2a.shape[1]):\n",
    "  print('Học sinh ', i,': Điểm Max: ', diem_2a[:,i].max(),\n",
    "                      '-- Điểm Min:',diem_2a[:,i].min())"
   ]
  },
  {
   "cell_type": "code",
   "execution_count": 1,
   "metadata": {
    "colab": {},
    "colab_type": "code",
    "id": "cWrmdj56mIJS"
   },
   "outputs": [
    {
     "ename": "NameError",
     "evalue": "name 'diem_2a' is not defined",
     "output_type": "error",
     "traceback": [
      "\u001b[1;31m---------------------------------------------------------------------------\u001b[0m",
      "\u001b[1;31mNameError\u001b[0m                                 Traceback (most recent call last)",
      "\u001b[1;32m<ipython-input-1-f12afbf6c02a>\u001b[0m in \u001b[0;36m<module>\u001b[1;34m\u001b[0m\n\u001b[0;32m      3\u001b[0m \u001b[1;31m#\"Điểm Max và Min của học sinh thứ 4: 10.0  điểm -  7.0  điểm\"\u001b[0m\u001b[1;33m\u001b[0m\u001b[1;33m\u001b[0m\u001b[1;33m\u001b[0m\u001b[0m\n\u001b[0;32m      4\u001b[0m \u001b[1;31m#{Viết code ở đây:}\u001b[0m\u001b[1;33m\u001b[0m\u001b[1;33m\u001b[0m\u001b[1;33m\u001b[0m\u001b[0m\n\u001b[1;32m----> 5\u001b[1;33m \u001b[0mdiem_2a\u001b[0m\u001b[1;33m[\u001b[0m\u001b[1;33m:\u001b[0m\u001b[1;33m,\u001b[0m\u001b[1;36m4\u001b[0m\u001b[1;33m]\u001b[0m\u001b[1;33m.\u001b[0m\u001b[0mmax\u001b[0m\u001b[1;33m(\u001b[0m\u001b[1;33m)\u001b[0m\u001b[1;33m\u001b[0m\u001b[1;33m\u001b[0m\u001b[0m\n\u001b[0m",
      "\u001b[1;31mNameError\u001b[0m: name 'diem_2a' is not defined"
     ]
    }
   ],
   "source": [
    "#YÊU CẦU: HIỂN THỊ ĐIỂM CAO NHẤT VÀ THẤP NHẤT CỦA HỌC SINH Ở VỊ TRÍ THỨ 4 \n",
    "#Kết quả hiển thị như sau:\n",
    "#\"Điểm Max và Min của học sinh thứ 4: 10.0  điểm -  7.0  điểm\"\n",
    "#{Viết code ở đây:}\n",
    "diem_2a[:,4].max()\n"
   ]
  },
  {
   "cell_type": "markdown",
   "metadata": {},
   "source": [
    "### 4.2) Sum\n",
    "---"
   ]
  },
  {
   "cell_type": "code",
   "execution_count": null,
   "metadata": {
    "colab": {
     "base_uri": "https://localhost:8080/",
     "height": 538
    },
    "colab_type": "code",
    "id": "Go7CfJ4fNJ04",
    "outputId": "7b0cd976-0a95-4ed0-aa29-1f7f5e44eff6"
   },
   "outputs": [],
   "source": [
    "#Sum:Tính tổng các phần tử trong mảng\n",
    "print('Tổng tất các điểm trong của lớp 2A:', diem_2a.sum())\n",
    "print('---------------------------------------------------')\n",
    "\n",
    "#Tính tổng điểm của từng học sinh:\n",
    "for i in range(0,diem_2a.shape[1]):\n",
    "  print('Tổng điểm các môn của học sinh ', i,' : ', diem_2a[:,i].sum())"
   ]
  },
  {
   "cell_type": "markdown",
   "metadata": {},
   "source": [
    "### 4.3) Mean, Median, Mode, Range\n",
    "---"
   ]
  },
  {
   "cell_type": "code",
   "execution_count": null,
   "metadata": {
    "colab": {},
    "colab_type": "code",
    "id": "GhKA_wR4rF_P"
   },
   "outputs": [],
   "source": [
    "# A) mean: Giá trị trung bình của mảng a\n",
    "print('Điểm trung bình của cả lớp 2A:', diem_2a.mean())\n",
    "print('---------------------------------------------')\n",
    "#Tính điểm trung bình của các học sinh trong lớp:\n",
    "#CÁCH 1: \n",
    "for i in range(0,diem_2a.shape[1]):\n",
    "  print('Điểm trung bình của học sinh ', i,' : ', diem_2a[:,i].mean())"
   ]
  },
  {
   "cell_type": "code",
   "execution_count": null,
   "metadata": {
    "colab": {},
    "colab_type": "code",
    "id": "CDNc1EmxsOCY"
   },
   "outputs": [],
   "source": [
    "#Tính điểm trung bình của các học sinh trong lớp:\n",
    "#CÁCH 2: \n",
    "mean_2a = diem_2a.mean(axis=0)\n",
    "#axis = 0: theo hàng\n",
    "#axis = 1: theo cột\n",
    "for i in range(0,mean_2a.size):\n",
    "  print('Điểm trung bình của học sinh ', i,' : ', mean_2a[i])"
   ]
  },
  {
   "cell_type": "code",
   "execution_count": null,
   "metadata": {
    "colab": {
     "base_uri": "https://localhost:8080/",
     "height": 134
    },
    "colab_type": "code",
    "id": "cq-jzNk71NOT",
    "outputId": "da72d089-8cdf-4567-dffc-582541562d0c"
   },
   "outputs": [],
   "source": [
    "#B) median(): Giá trị trung vị trong một tập hợp các phần tử.\n",
    "#Trường hợp số phần tử trong mảng là lẻ\n",
    "a=diem_2a[1,:15]\n",
    "\n",
    "print('Mảng a ban đầu: \\n', a)\n",
    "print('Số phần tử trong mảng a: ', a.size)\n",
    "print('Mảng a đã sắp xếp: \\n',np.sort(a,))\n",
    "print('Giá trị trung bình mean:', np.mean(a))  \n",
    "print('Giá trị trung vị median:', np.median(a))"
   ]
  },
  {
   "cell_type": "code",
   "execution_count": null,
   "metadata": {
    "colab": {
     "base_uri": "https://localhost:8080/",
     "height": 134
    },
    "colab_type": "code",
    "id": "igZocFli-ddl",
    "outputId": "7200a038-da85-4206-8f67-ab7c0b906289"
   },
   "outputs": [],
   "source": [
    "#median(): Giá trị trung vị trong một tập hợp các phần tử.\n",
    "a=diem_2a[:,9]\n",
    "\n",
    "print('Mảng a ban đầu: \\n', a)\n",
    "print('Số phần tử trong mảng a: ', a.size)\n",
    "print('Mảng a đã sắp xếp: \\n',np.sort(a,))\n",
    "print('Giá trị trung bình mean:', np.mean(a))  \n",
    "print('Giá trị trung vị median:', np.median(a))"
   ]
  },
  {
   "cell_type": "code",
   "execution_count": null,
   "metadata": {
    "colab": {
     "base_uri": "https://localhost:8080/",
     "height": 202
    },
    "colab_type": "code",
    "id": "aZviHD9fBFOz",
    "outputId": "b7076f3b-60a8-4709-be12-de6ce393b078"
   },
   "outputs": [],
   "source": [
    "#C) Mode: là giá trị xuất hiện nhiều nhất trong tập hợp. \n",
    "#Trong trường hợp không có giá trị nào được lặp lại thì không có Mode.\n",
    "#Liệt kê điểm xuất hiện nhiều nhất theo từng môn học\n",
    "from scipy import stats as sp #sử dụng thư viện scipy để dùng hàm mode\n",
    "\n",
    "for i in range(0,diem_2a.shape[0]):\n",
    "  a = sp.mode(diem_2a[i,:])\n",
    "  print('Môn ', i,': Điểm xuất hiện nhiều nhất: ', a[0],\n",
    "        ' số lần: ', a[1])\n",
    "print(type(a))"
   ]
  },
  {
   "cell_type": "code",
   "execution_count": null,
   "metadata": {
    "colab": {},
    "colab_type": "code",
    "id": "YbE-5b0zIQGt"
   },
   "outputs": [],
   "source": [
    "#D) Range: là sự khác biệt, khoảng cách giữa phần tử dưới và phần tử trên, \n",
    "#giữa giá trị nhỏ nhất (Min) với giá trị lớn nhất (Max) trong tập hợp.\n",
    "#Xác định độ chênh điểm max - min của từng học sinh\n",
    "\n",
    "for i in range(0,diem_2a.shape[1]):\n",
    "  print('Độ chênh điểm của học sinh ', i,' : ',\n",
    "        diem_2a[:,i].max()-diem_2a[:,i].min())"
   ]
  },
  {
   "cell_type": "code",
   "execution_count": 63,
   "metadata": {},
   "outputs": [
    {
     "name": "stdout",
     "output_type": "stream",
     "text": [
      "Phần tử của mảng a: [10  1  1  9 12  1  9 12 10]\n",
      "Giá trị trung bình: 7.222222222222222\n",
      "Độ lệch chuẩn: 4.516089207311461\n",
      "--------------------------------------------\n",
      "Phần tử của mảng b: [7 7 8 7 8 7 7 7 7]\n",
      "Giá trị trung bình: 7.222222222222222\n",
      "Độ lệch chuẩn: 0.41573970964154905\n"
     ]
    }
   ],
   "source": [
    "#E) Std: Tính độ lệch chuẩn\n",
    "a = np.array([10,1,1,9,12,1,9,12,10])\n",
    "print('Phần tử của mảng a:',a)\n",
    "print('Giá trị trung bình:',a.mean())\n",
    "print('Độ lệch chuẩn:',a.std())\n",
    "\n",
    "print('--------------------------------------------')\n",
    "b = np.array([7,7,8,7,8,7,7,7,7])\n",
    "print('Phần tử của mảng b:',b)\n",
    "print('Giá trị trung bình:',b.mean())\n",
    "print('Độ lệch chuẩn:',b.std())"
   ]
  },
  {
   "cell_type": "code",
   "execution_count": null,
   "metadata": {
    "colab": {
     "base_uri": "https://localhost:8080/",
     "height": 521
    },
    "colab_type": "code",
    "id": "nuAUyO_ZVJSH",
    "outputId": "fc98ead3-315f-4cac-a034-09182727574d"
   },
   "outputs": [],
   "source": [
    "#E) Std: độ lệch chuẩn\n",
    "#Tính độ lệch chuẩn điểm thi của từng học sinh\n",
    "\n",
    "for i in range(0,diem_2a.shape[1]):\n",
    "  print('Độ lệch chuẩn điểm của từng học sinh ', i,' : ', diem_2a[:,i].std())"
   ]
  },
  {
   "cell_type": "code",
   "execution_count": null,
   "metadata": {},
   "outputs": [],
   "source": [
    "print(diem_2a[:,3])"
   ]
  },
  {
   "cell_type": "markdown",
   "metadata": {},
   "source": [
    "# Thực hành số 2:\n",
    "---\n",
    "**YÊU CẦU 1: Sử dụng dữ liệu bảng điểm của lớp 2A. Cho biết:**\n",
    "\n",
    "1. ĐTB của từng học sinh trong lớp.\n",
    "2. Học sinh có điểm TB cao nhất.\n",
    "3. Học sinh có điểm trung bình thấp nhất\n"
   ]
  },
  {
   "cell_type": "code",
   "execution_count": null,
   "metadata": {},
   "outputs": [],
   "source": [
    "#{VIẾT CODE Ở ĐÂY}\n",
    "mean_2a = diem_2a.mean(axis=0)\n",
    "for i in range(0,mean_2a.size):\n",
    "  print('Điểm trung bình của học sinh ', i,' : ', mean_2a[i])\n",
    "\n",
    "print('hoc sinh co diem trung binh cao nhat la',mean_2a.index(mean_2a.max()))\n",
    "\n",
    "print('hoc sinh co diem trung binh thap nhat la',mean_2a.index(mean_2a.min())\n"
   ]
  },
  {
   "cell_type": "code",
   "execution_count": null,
   "metadata": {},
   "outputs": [],
   "source": []
  },
  {
   "cell_type": "markdown",
   "metadata": {},
   "source": [
    "**YÊU CẦU 2: Sử dụng dữ liệu bảng điểm của lớp 2A. Cho biết:**\n",
    "\n",
    "1. ĐTB của từng môn học.\n",
    "2. Môn học có điểm TB cao nhất.\n",
    "3. Môn học có điểm trung bình thấp nhất"
   ]
  },
  {
   "cell_type": "code",
   "execution_count": null,
   "metadata": {},
   "outputs": [],
   "source": [
    "#{VIẾT CODE Ở ĐÂY}\n",
    "mean_2a = diem_2a.mean(axis=1)\n",
    "for i in range(0,mean_2a.size):\n",
    "  print('Điểm trung bình của mpn hoc ', i,' : ', mean_2a[i])\n",
    "\n",
    "print('mon hoc co diem trung binh cao nhat la',mean_2a.index(mean_2a.max()))\n",
    "\n",
    "print('mon hoc co diem trung binh thap nhat la',mean_2a.index(mean_2a.min())\n",
    "\n",
    "\n"
   ]
  },
  {
   "cell_type": "markdown",
   "metadata": {},
   "source": [
    "#### **YÊU CẦU 3: Sử dụng dữ liệu bảng điểm của lớp 2A. Cho biết:**\n",
    "---\n",
    "1. Sinh viên có điểm đồng đều nhất tất cả các môn. Sinh viên có điểm các môn lệch nhất trong lớp.\n",
    "2. Môn học có điểm đồng đều nhất. Môn học có điểm chênh lệch nhất.\n",
    "\n"
   ]
  },
  {
   "cell_type": "code",
   "execution_count": null,
   "metadata": {},
   "outputs": [],
   "source": [
    "#{VIẾT CODE Ở ĐÂY}\n",
    "arr1=arr.zeros(10)\n",
    "for i in range(0,diem_2a.shape[1]):\n",
    "   arr1[i]=diem_2a[:,i].std()\n",
    "print(' SV co diem dong deu nhat',arr1.min())\n",
    "print('SV co diem lech nhat',arr1.max())"
   ]
  },
  {
   "cell_type": "code",
   "execution_count": null,
   "metadata": {},
   "outputs": [],
   "source": [
    "arr1=arr.zeros(30)\n",
    "for i in range(0,diem_2a.shape[1]):\n",
    "   arr1[i]=diem_2a[u,:].std()\n",
    "print(' Mon hoc co diem dong deu nhat',arr1.min())\n",
    "print( 'Mon hoc co diem lech nhat',arr1.max())"
   ]
  },
  {
   "cell_type": "markdown",
   "metadata": {
    "colab": {},
    "colab_type": "code",
    "id": "mZjltyhGt0-l"
   },
   "source": [
    "### 4.3) Hệ số tương quan | corrcoef\n",
    "---"
   ]
  },
  {
   "cell_type": "code",
   "execution_count": null,
   "metadata": {
    "colab": {
     "base_uri": "https://localhost:8080/",
     "height": 84
    },
    "colab_type": "code",
    "id": "AzbLh8h1dDn7",
    "outputId": "e8263aac-7bd0-4114-d2a8-ab9386f6a67c"
   },
   "outputs": [],
   "source": [
    "import numpy as np\n",
    "#corrcoef: Hệ số tương quan\n",
    "\n",
    "#Thời gian dành cho học bài\n",
    "a_giohoc = np.array([4,7,1,2,8,0,3,8,6])\n",
    "\n",
    "#Điểm thi nhận được:\n",
    "b_diem   = np.array([8,9,10,4,9,2,5,10,8])\n",
    "\n",
    "co = np.corrcoef(a_giohoc,b_diem)\n",
    "print(type(co))\n",
    "print('Hệ số tương quan: \\n', co)"
   ]
  },
  {
   "cell_type": "code",
   "execution_count": 30,
   "metadata": {
    "colab": {
     "base_uri": "https://localhost:8080/",
     "height": 297
    },
    "colab_type": "code",
    "id": "2M0_uFNSg7wa",
    "outputId": "3ce8e3f7-c30a-40d4-d5b7-2b92c26a89a8"
   },
   "outputs": [
    {
     "data": {
      "image/png": "[encoded data removed]",
      "text/plain": [
       "<Figure size 432x288 with 1 Axes>"
      ]
     },
     "metadata": {
      "needs_background": "light"
     },
     "output_type": "display_data"
    }
   ],
   "source": [
    "#Vẽ đồ thị mối quan hệ giữa thời gian học và điểm nhận được\n",
    "\n",
    "import matplotlib.pyplot as plt\n",
    "a_giohoc = np.array([4,7,1,2,8,0,3,8,6])\n",
    "b_diem   = np.array([8,9,10,4,9,2,5,10,8])\n",
    "fig, ax = plt.subplots()\n",
    "ax.scatter(a_giohoc, b_diem)\n",
    "\n",
    "ax.set_xlabel('Giờ học bài (tuần)', fontsize=10)\n",
    "ax.set_ylabel('Điểm môn học', fontsize=10)\n",
    "ax.set_title('BIỂU ĐỒ THỂ HIỆN MỐI TƯƠNG QUAN GIỮA GIỜ HỌC BÀI VÀ ĐIỂM THI')\n",
    "\n",
    "ax.grid(True)\n",
    "#fig.tight_layout()\n",
    "\n",
    "plt.show()"
   ]
  },
  {
   "cell_type": "code",
   "execution_count": 31,
   "metadata": {
    "colab": {
     "base_uri": "https://localhost:8080/",
     "height": 67
    },
    "colab_type": "code",
    "id": "rQxsOLWSeJfn",
    "outputId": "f7d12246-8a86-4a58-9c54-4ed4d9719fc4"
   },
   "outputs": [
    {
     "name": "stdout",
     "output_type": "stream",
     "text": [
      "<class 'numpy.ndarray'>\n",
      "[[1.         0.96995403 0.93501924]\n",
      " [0.96995403 1.         0.884375  ]\n",
      " [0.93501924 0.884375   1.        ]]\n"
     ]
    }
   ],
   "source": [
    "#Hệ số tương quan của Matrix\n",
    "a_hoc = np.array([[4,7,1,2,8,0,3,8,6],\n",
    "                 [7,9,3,4,9,0,5,10,8],\n",
    "                 [1,2,0,1,3,0,1,4,2]])\n",
    "\n",
    "co = np.corrcoef(a_hoc)\n",
    "print(type(co))\n",
    "print(co)"
   ]
  },
  {
   "cell_type": "markdown",
   "metadata": {},
   "source": [
    "# Thực hành số 3:\n",
    "---\n",
    "**Yêu cầu: Xác định hệ số tương quan giữa diện tích (1) | Khoảng cách từ trung tâm thành phố (2) và giá bán nhà theo bảng số liệu**\n"
   ]
  },
  {
   "cell_type": "code",
   "execution_count": 7,
   "metadata": {},
   "outputs": [
    {
     "data": {
      "image/png": "[encoded data removed]",
      "text/plain": [
       "<Figure size 432x288 with 1 Axes>"
      ]
     },
     "metadata": {
      "needs_background": "light"
     },
     "output_type": "display_data"
    }
   ],
   "source": [
    "#{VIẾT CODE Ở ĐÂY}\n",
    "import numpy as np\n",
    "import matplotlib.pyplot as plt\n",
    "a_dientich = np.array([1,7,3,5,3,5,3,8,6,6,5,3,1,2,3,4,5,6,7,15])\n",
    "b_giabannha= np.array([8,9,10,4,9,2,5,10,8,5,6,7,6,8,9,9,5,3,4,10])\n",
    "fig, ax = plt.subplots()\n",
    "ax.scatter(a_dientich, b_giabannha)\n",
    "\n",
    "ax.set_xlabel('dientich (m2)', fontsize=20)\n",
    "ax.set_ylabel('gia ban nha(trieu)', fontsize=20)\n",
    "ax.set_title('BIỂU ĐỒ THỂ HIỆN MỐI TƯƠNG QUAN GIỮA dien tich va gia nha')\n",
    "\n",
    "ax.grid(True)\n",
    "#fig.tight_layout()\n",
    "\n",
    "plt.show()\n",
    "\n"
   ]
  },
  {
   "cell_type": "code",
   "execution_count": null,
   "metadata": {},
   "outputs": [],
   "source": [
    "#{VIẾT CODE Ở ĐÂY}\n",
    "\n",
    "\n"
   ]
  },
  {
   "cell_type": "markdown",
   "metadata": {},
   "source": [
    "## 5) Kết hợp, chuyển đổi vector, matrix\n",
    "---\n",
    "### 5.1) reshape"
   ]
  },
  {
   "cell_type": "code",
   "execution_count": 65,
   "metadata": {},
   "outputs": [
    {
     "name": "stdout",
     "output_type": "stream",
     "text": [
      "[ 5  7  2  9 10 15  2  9  2 17 28 16]\n",
      "Số phần tử của vector: 12\n"
     ]
    }
   ],
   "source": [
    "# Phương thức a.reshape(m,n)\n",
    "vector_a = np.array([5,7,2,9,10,15,2,9,2,17,28,16],dtype=np.int16)\n",
    "print(vector_a)\n",
    "print('Số phần tử của vector:', vector_a.size)"
   ]
  },
  {
   "cell_type": "code",
   "execution_count": 66,
   "metadata": {},
   "outputs": [
    {
     "name": "stdout",
     "output_type": "stream",
     "text": [
      "Reshape về matrix: 3 x 4\n",
      "[[ 5  7  2  9]\n",
      " [10 15  2  9]\n",
      " [ 2 17 28 16]]\n",
      "Số phần tử của matrix_a: 12\n"
     ]
    }
   ],
   "source": [
    "#Chuyển đổi vector về matrix (n x m)\n",
    "#Lưu ý: matrix.size =vector.size\n",
    "matrix_a = vector_a.reshape((3,4))\n",
    "print('Reshape về matrix: 3 x 4')\n",
    "print(matrix_a)\n",
    "print('Số phần tử của matrix_a:',matrix_a.size)"
   ]
  },
  {
   "cell_type": "code",
   "execution_count": 67,
   "metadata": {},
   "outputs": [
    {
     "name": "stdout",
     "output_type": "stream",
     "text": [
      "Reshape về matrix: 2 x 6\n",
      "[[ 5  2 10  2  2 28]\n",
      " [ 7  9 15  9 17 16]]\n",
      "Số phần tử của matrix_b: 12\n"
     ]
    }
   ],
   "source": [
    "print('Reshape về matrix: 2 x 6')\n",
    "matrix_b = vector_a.reshape((2,6),order='F')\n",
    "print(matrix_b)\n",
    "print('Số phần tử của matrix_b:',matrix_b.size)"
   ]
  },
  {
   "cell_type": "code",
   "execution_count": 68,
   "metadata": {},
   "outputs": [
    {
     "name": "stdout",
     "output_type": "stream",
     "text": [
      "[ 1  2  3  4  5  6  7  8  9 10 11 12]\n"
     ]
    }
   ],
   "source": [
    "#sắp xếp thứ tự các phần tử khi reshape array\n",
    "a1 = np.arange(1,13)\n",
    "print(a1)"
   ]
  },
  {
   "cell_type": "code",
   "execution_count": 69,
   "metadata": {},
   "outputs": [
    {
     "name": "stdout",
     "output_type": "stream",
     "text": [
      "[[ 1  2  3  4]\n",
      " [ 5  6  7  8]\n",
      " [ 9 10 11 12]]\n"
     ]
    }
   ],
   "source": [
    "#order ='C': default - reshape phần tử theo hàng\n",
    "matrix_a1 = a1.reshape((3,4),order='C')\n",
    "print(matrix_a1)"
   ]
  },
  {
   "cell_type": "code",
   "execution_count": 70,
   "metadata": {},
   "outputs": [
    {
     "name": "stdout",
     "output_type": "stream",
     "text": [
      "[[ 1  4  7 10]\n",
      " [ 2  5  8 11]\n",
      " [ 3  6  9 12]]\n"
     ]
    }
   ],
   "source": [
    "#order ='F': reshape phần tử theo cột\n",
    "matrix_a1 = a1.reshape((3,4),order='F')\n",
    "print(matrix_a1)"
   ]
  },
  {
   "cell_type": "code",
   "execution_count": 71,
   "metadata": {},
   "outputs": [
    {
     "data": {
      "text/plain": [
       "array([91, 63, 46, 12, 78,  5, 88, 12, 37, 93, 62, 12,  7, 54, 27, 92, 35,\n",
       "       16, 11, 75, 63,  7, 83, 67, 49, 97, 70, 47,  1, 15, 24,  9, 18, 25,\n",
       "       55, 83, 82, 47, 39, 70, 36, 87, 26, 72, 93, 32, 43, 91, 81, 28,  0,\n",
       "       78, 31, 37, 63, 24,  2, 59, 45, 31, 20, 85, 60, 75, 25,  4, 81, 70,\n",
       "       77, 92,  9,  2, 94, 57, 96,  8, 43,  6, 27, 44])"
      ]
     },
     "execution_count": 71,
     "metadata": {},
     "output_type": "execute_result"
    }
   ],
   "source": [
    "#Sử dụng tham số -1 để tự động tính toán số hàng (hoặc số cột)\n",
    "A = np.random.randint(0,100,80)\n",
    "A"
   ]
  },
  {
   "cell_type": "code",
   "execution_count": null,
   "metadata": {},
   "outputs": [],
   "source": [
    "#Tự động tính toán số cột\n",
    "A1 = A.reshape(8,-1)\n",
    "A1"
   ]
  },
  {
   "cell_type": "code",
   "execution_count": null,
   "metadata": {},
   "outputs": [],
   "source": [
    "#Tự động tính toán số hàng\n",
    "A2 = A.reshape(-1,10)\n",
    "A2.shape"
   ]
  },
  {
   "cell_type": "code",
   "execution_count": null,
   "metadata": {},
   "outputs": [],
   "source": [
    "#Thay đổi kích thước ma trận\n",
    "A3=A2.reshape(4,-1)\n",
    "A3.shape"
   ]
  },
  {
   "cell_type": "markdown",
   "metadata": {},
   "source": [
    "### 5.2) Flatten | ravel array\n",
    "---\n",
    "**Phương thức: ravel sử dụng để chuyển Matrix thành Vector**"
   ]
  },
  {
   "cell_type": "code",
   "execution_count": 72,
   "metadata": {},
   "outputs": [
    {
     "name": "stdout",
     "output_type": "stream",
     "text": [
      "Matrix: \n",
      " [[ 1  2  3  4]\n",
      " [ 5  6  7  8]\n",
      " [ 9 10 11 12]]\n",
      "---------------------------------------\n",
      "a) ravel by row (default order='C')\n",
      "[ 1  2  3  4  5  6  7  8  9 10 11 12]\n",
      "\n",
      " b) ravel by column (order='F')\n",
      "[ 1  5  9  2  6 10  3  7 11  4  8 12]\n"
     ]
    }
   ],
   "source": [
    "#Chuyển đổi từ Matrix --> Vector\n",
    "\n",
    "a1_2d = np.array([(1,2,3,4),(5,6,7,8),(9,10,11,12)])\n",
    "print('Matrix: \\n', a1_2d)\n",
    "\n",
    "print('---------------------------------------')\n",
    "print('a) ravel by row (default order=\\'C\\')')\n",
    "print(a1_2d.ravel()) \n",
    "\n",
    "print('\\n b) ravel by column (order=\\'F\\')')\n",
    "print(a1_2d.ravel(order='F'))"
   ]
  },
  {
   "cell_type": "markdown",
   "metadata": {},
   "source": [
    "### 5.3) Concatenate array\n",
    "---\n",
    "**Phương thức: Concatenate sử dụng để kết hợp các vector, array lại với nhau**"
   ]
  },
  {
   "cell_type": "code",
   "execution_count": 73,
   "metadata": {},
   "outputs": [
    {
     "name": "stdout",
     "output_type": "stream",
     "text": [
      "Vector x: [1 1 1 1 1]\n",
      "Vector y: [9 9 9 9 9]\n",
      "Vector xy: [1 1 1 1 1 9 9 9 9 9]\n"
     ]
    }
   ],
   "source": [
    "#Phương thức: Concatenate sử dụng để kết hợp các vector, array lại với nhau\n",
    "#Khởi Tạo vector\n",
    "x = np.full((5),1)\n",
    "y = np.full((5),9)\n",
    "\n",
    "print('Vector x:', x)\n",
    "print('Vector y:', y)\n",
    "#Ghép 2 vector \n",
    "xy = np.concatenate([x, y])\n",
    "print('Vector xy:',xy)"
   ]
  },
  {
   "cell_type": "code",
   "execution_count": 75,
   "metadata": {},
   "outputs": [
    {
     "name": "stdout",
     "output_type": "stream",
     "text": [
      "Ma trận x:\n",
      " [[1 1 1 1]\n",
      " [1 1 1 1]\n",
      " [1 1 1 1]]\n",
      "Ma trận y:\n",
      " [[9 9 9 9]\n",
      " [9 9 9 9]\n",
      " [9 9 9 9]]\n",
      "Ma trận xy (theo hàng):\n",
      " [[1 1 1 1]\n",
      " [1 1 1 1]\n",
      " [1 1 1 1]\n",
      " [9 9 9 9]\n",
      " [9 9 9 9]\n",
      " [9 9 9 9]]\n",
      "Ma trận xy (theo cột):\n",
      " [[1 1 1 1 9 9 9 9]\n",
      " [1 1 1 1 9 9 9 9]\n",
      " [1 1 1 1 9 9 9 9]]\n"
     ]
    }
   ],
   "source": [
    "#Khởi Tạo ma trận\n",
    "x = np.full((3,4),1)\n",
    "y = np.full((3,4),9)\n",
    "\n",
    "print('Ma trận x:\\n', x)\n",
    "print('Ma trận y:\\n', y)\n",
    "\n",
    "#Ghép 2 ma trận theo hàng axis=0 (Default)\n",
    "xy_row = np.concatenate([x, y],axis=0)\n",
    "print('Ma trận xy (theo hàng):\\n',xy_row)\n",
    "\n",
    "#Ghép 2 ma trận theo cột axis=1\n",
    "xy_col = np.concatenate([x, y],axis=1)\n",
    "print('Ma trận xy (theo cột):\\n',xy_col)"
   ]
  },
  {
   "cell_type": "code",
   "execution_count": 76,
   "metadata": {},
   "outputs": [
    {
     "name": "stdout",
     "output_type": "stream",
     "text": [
      "Ma trận x:\n",
      " [[1 1 1 1]\n",
      " [1 1 1 1]\n",
      " [1 1 1 1]]\n",
      "Ma trận y:\n",
      " [[9 9 9 9]\n",
      " [9 9 9 9]\n",
      " [9 9 9 9]]\n",
      "[[1 1 1 1]\n",
      " [1 1 1 1]\n",
      " [1 1 1 1]\n",
      " [9 9 9 9]\n",
      " [9 9 9 9]\n",
      " [9 9 9 9]]\n",
      "[[1 1 1 1 9 9 9 9]\n",
      " [1 1 1 1 9 9 9 9]\n",
      " [1 1 1 1 9 9 9 9]]\n"
     ]
    }
   ],
   "source": [
    "#CÁCH 2: Sử dụng vstack, hstack để gộp vector, array\n",
    "import numpy as np\n",
    "\n",
    "#Khởi Tạo ma trận\n",
    "x = np.full((3,4),1)\n",
    "y = np.full((3,4),9)\n",
    "\n",
    "print('Ma trận x:\\n', x)\n",
    "print('Ma trận y:\\n', y)\n",
    "\n",
    "xy = np.vstack([x,y])\n",
    "print(xy)\n",
    "\n",
    "xy1 = np.hstack([x,y])\n",
    "print(xy1)"
   ]
  },
  {
   "cell_type": "markdown",
   "metadata": {},
   "source": [
    "### 5.3) Split array\n",
    "---\n",
    "**Phương thức: Split sử dụng để phân tách các vector, array**"
   ]
  },
  {
   "cell_type": "code",
   "execution_count": 77,
   "metadata": {},
   "outputs": [
    {
     "name": "stdout",
     "output_type": "stream",
     "text": [
      "[0 1 2 3 4 5]\n",
      "[0 1 2] [3 4 5]\n"
     ]
    }
   ],
   "source": [
    "#Split với Vector\n",
    "import numpy as np\n",
    "x = np.arange(0,6)\n",
    "print(x)\n",
    "\n",
    "#Tách vector x thành 2 vector \n",
    "#có số phần tử bằng nhau\n",
    "x1, x2 = np.split(x, 2)\n",
    "print(x1, x2)"
   ]
  },
  {
   "cell_type": "code",
   "execution_count": 78,
   "metadata": {},
   "outputs": [
    {
     "name": "stdout",
     "output_type": "stream",
     "text": [
      "[0 1 2 3 4] [5]\n"
     ]
    }
   ],
   "source": [
    "#Tách vector x thành 2 vector \n",
    "#vector 1 có 4 phần tử\n",
    "x11, x22 = np.split(x, [5])\n",
    "print(x11, x22)"
   ]
  },
  {
   "cell_type": "code",
   "execution_count": 79,
   "metadata": {},
   "outputs": [
    {
     "name": "stdout",
     "output_type": "stream",
     "text": [
      "[1 2 3 4 5 6 7 8 9]\n",
      "[1 2] [3 4 5 6] [7 8 9]\n"
     ]
    }
   ],
   "source": [
    "import numpy as np\n",
    "x = np.arange(1,10)\n",
    "print(x)\n",
    "\n",
    "#Tách vector x thành 3 vector \n",
    "#tại các vị trí 2 và 6\n",
    "x1, x2, x3 = np.split(x, [2,6])\n",
    "print(x1, x2, x3)"
   ]
  },
  {
   "cell_type": "code",
   "execution_count": 34,
   "metadata": {},
   "outputs": [
    {
     "name": "stdout",
     "output_type": "stream",
     "text": [
      "[[ 1  2  3  4  5]\n",
      " [ 6  7  8  9 10]\n",
      " [11 12 13 14 15]\n",
      " [16 17 18 19 20]]\n",
      "-----------------------------\n",
      "[[ 1  2  3  4  5]\n",
      " [ 6  7  8  9 10]]\n",
      "-----------------------------\n",
      "[[11 12 13 14 15]\n",
      " [16 17 18 19 20]]\n"
     ]
    }
   ],
   "source": [
    "#Split với Ma trận\n",
    "a = np.array([(1,2,3,4,5), \n",
    "              (6,7,8,9,10), \n",
    "              (11,12,13,14,15), \n",
    "              (16,17,18,19,20)])\n",
    "print(a)\n",
    "print('-----------------------------')\n",
    "#split theo row\n",
    "upper, lower = np.vsplit(a, 2)\n",
    "print(upper)\n",
    "print('-----------------------------')\n",
    "print(lower)"
   ]
  },
  {
   "cell_type": "code",
   "execution_count": 35,
   "metadata": {},
   "outputs": [
    {
     "name": "stdout",
     "output_type": "stream",
     "text": [
      "[[ 1  2  3  4  5]\n",
      " [ 6  7  8  9 10]\n",
      " [11 12 13 14 15]\n",
      " [16 17 18 19 20]]\n",
      "-----------------------------\n",
      "[[ 1  2]\n",
      " [ 6  7]\n",
      " [11 12]\n",
      " [16 17]]\n",
      "-----------------------------\n",
      "[[ 3]\n",
      " [ 8]\n",
      " [13]\n",
      " [18]]\n",
      "-----------------------------\n",
      "[[ 4  5]\n",
      " [ 9 10]\n",
      " [14 15]\n",
      " [19 20]]\n"
     ]
    }
   ],
   "source": [
    "print(a)\n",
    "print('-----------------------------')\n",
    "#split theo col, Tách thành 3 ma trận\n",
    "#Ma trận đầu chứ 2 cột dữ liệu\n",
    "a1, a2, a3 = np.hsplit(a, (2,3))\n",
    "print(a1)\n",
    "print('-----------------------------')\n",
    "print(a2)\n",
    "print('-----------------------------')\n",
    "print(a3)"
   ]
  },
  {
   "cell_type": "markdown",
   "metadata": {},
   "source": [
    "### 5.5) Flip array\n",
    "---\n",
    "**Phương thức: Flip sử dụng lật ngược ma trận theo hàng, cột**"
   ]
  },
  {
   "cell_type": "code",
   "execution_count": 80,
   "metadata": {},
   "outputs": [
    {
     "name": "stdout",
     "output_type": "stream",
     "text": [
      "Ma trận ban đầu: \n",
      " [[ 1  2  3  4  5]\n",
      " [ 6  7  8  9 10]\n",
      " [11 12 13 14 15]\n",
      " [16 17 18 19 20]\n",
      " [21 22 23 24 25]]\n"
     ]
    },
    {
     "name": "stderr",
     "output_type": "stream",
     "text": [
      "<ipython-input-80-59ee9e102ca1>:3: DeprecationWarning: `np.int` is a deprecated alias for the builtin `int`. To silence this warning, use `int` by itself. Doing this will not modify any behavior and is safe. When replacing `np.int`, you may wish to use e.g. `np.int64` or `np.int32` to specify the precision. If you wish to review your current use, check the release note link for additional information.\n",
      "Deprecated in NumPy 1.20; for more details and guidance: https://numpy.org/devdocs/release/1.20.0-notes.html#deprecations\n",
      "  A = np.linspace(1,25,25,dtype=np.int).reshape(5,5)\n"
     ]
    }
   ],
   "source": [
    "import numpy as np\n",
    "#Tạo mảng A\n",
    "A = np.linspace(1,25,25,dtype=np.int).reshape(5,5)\n",
    "print('Ma trận ban đầu: \\n',A)\n"
   ]
  },
  {
   "cell_type": "code",
   "execution_count": 81,
   "metadata": {},
   "outputs": [
    {
     "data": {
      "text/plain": [
       "array([[ 1,  6, 11, 16, 21],\n",
       "       [ 2,  7, 12, 17, 22],\n",
       "       [ 3,  8, 13, 18, 23],\n",
       "       [ 4,  9, 14, 19, 24],\n",
       "       [ 5, 10, 15, 20, 25]])"
      ]
     },
     "execution_count": 81,
     "metadata": {},
     "output_type": "execute_result"
    }
   ],
   "source": [
    "A.T"
   ]
  },
  {
   "cell_type": "code",
   "execution_count": 82,
   "metadata": {},
   "outputs": [
    {
     "name": "stdout",
     "output_type": "stream",
     "text": [
      "Lật ma trận theo cột: \n",
      " [[ 5  4  3  2  1]\n",
      " [10  9  8  7  6]\n",
      " [15 14 13 12 11]\n",
      " [20 19 18 17 16]\n",
      " [25 24 23 22 21]]\n"
     ]
    }
   ],
   "source": [
    "#Lật ma trận theo cột\n",
    "A1 = np.flip(A,1) \n",
    "#Tương đương với\n",
    "#A1 = np.fliplr(A)\n",
    "print('Lật ma trận theo cột: \\n',A1)"
   ]
  },
  {
   "cell_type": "code",
   "execution_count": 84,
   "metadata": {},
   "outputs": [
    {
     "name": "stdout",
     "output_type": "stream",
     "text": [
      "Lật ma trận theo hàng: \n",
      " [[21 22 23 24 25]\n",
      " [16 17 18 19 20]\n",
      " [11 12 13 14 15]\n",
      " [ 6  7  8  9 10]\n",
      " [ 1  2  3  4  5]]\n"
     ]
    }
   ],
   "source": [
    "#Lật ma trận theo hàng\n",
    "A2 = np.flip(A,0) \n",
    "#Tương đương với\n",
    "A2 = np.flipud(A)\n",
    "print('Lật ma trận theo hàng: \\n',A2)"
   ]
  },
  {
   "cell_type": "code",
   "execution_count": 83,
   "metadata": {},
   "outputs": [
    {
     "name": "stdout",
     "output_type": "stream",
     "text": [
      "[ 1  2  3  4  5  6  7  8  9 10 11 12 13 14 15 16 17 18 19 20 21 22 23 24\n",
      " 25]\n",
      "----------------------------------------------\n",
      "[25 24 23 22 21 20 19 18 17 16 15 14 13 12 11 10  9  8  7  6  5  4  3  2\n",
      "  1]\n"
     ]
    },
    {
     "name": "stderr",
     "output_type": "stream",
     "text": [
      "<ipython-input-83-4345644a2b83>:2: DeprecationWarning: `np.int` is a deprecated alias for the builtin `int`. To silence this warning, use `int` by itself. Doing this will not modify any behavior and is safe. When replacing `np.int`, you may wish to use e.g. `np.int64` or `np.int32` to specify the precision. If you wish to review your current use, check the release note link for additional information.\n",
      "Deprecated in NumPy 1.20; for more details and guidance: https://numpy.org/devdocs/release/1.20.0-notes.html#deprecations\n",
      "  B = np.linspace(1,25,25,dtype=np.int)\n"
     ]
    }
   ],
   "source": [
    "#Lật vector\n",
    "B = np.linspace(1,25,25,dtype=np.int)\n",
    "print(B)\n",
    "print('----------------------------------------------')\n",
    "B1 = np.flip(B)\n",
    "print(B1)"
   ]
  },
  {
   "cell_type": "markdown",
   "metadata": {},
   "source": [
    "## THỰC HÀNH SỐ 4:\n",
    "---\n",
    "**Yêu cầu: Tạo một vector gồm 30 phần tử, có giá trị tăng dần từ 1 đến 30**\n",
    "\n",
    "Chỉ sử dụng các phương thức reshape, ravel, split…tách Vector a ở trên thành 3 vector con bao gồm:\n",
    "\n",
    "1. a_lẻ: chứa các phần tử là số lẻ; \n",
    "2. a_chan: chứa các phần tử là số chẵn.\n",
    "3. a_3: chứa các phần tử chia hết cho 3\n"
   ]
  },
  {
   "cell_type": "code",
   "execution_count": null,
   "metadata": {},
   "outputs": [],
   "source": [
    "#{ VIẾT CODE Ở ĐÂY}\n",
    "import numpy as np\n",
    "arr2=arr.zeros(30)\n",
    "for i in range(0,30,1):\n",
    "    arr2[i]=i+1\n",
    "\n"
   ]
  },
  {
   "cell_type": "code",
   "execution_count": null,
   "metadata": {},
   "outputs": [],
   "source": []
  },
  {
   "cell_type": "code",
   "execution_count": null,
   "metadata": {},
   "outputs": [],
   "source": []
  },
  {
   "cell_type": "code",
   "execution_count": null,
   "metadata": {},
   "outputs": [],
   "source": []
  },
  {
   "cell_type": "code",
   "execution_count": null,
   "metadata": {},
   "outputs": [],
   "source": []
  },
  {
   "cell_type": "code",
   "execution_count": null,
   "metadata": {},
   "outputs": [],
   "source": []
  }
 ],
 "metadata": {
  "colab": {
   "collapsed_sections": [],
   "name": "Chuong_4_package_Numpy.ipynb",
   "provenance": []
  },
  "kernelspec": {
   "display_name": "Python 3",
   "language": "python",
   "name": "python3"
  },
  "language_info": {
   "codemirror_mode": {
    "name": "ipython",
    "version": 3
   },
   "file_extension": ".py",
   "mimetype": "text/x-python",
   "name": "python",
   "nbconvert_exporter": "python",
   "pygments_lexer": "ipython3",
   "version": "3.8.8"
  }
 },
 "nbformat": 4,
 "nbformat_minor": 1
}
